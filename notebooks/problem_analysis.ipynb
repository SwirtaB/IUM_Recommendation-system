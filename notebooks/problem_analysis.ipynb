{
 "cells": [
  {
   "cell_type": "markdown",
   "id": "dc726954",
   "metadata": {},
   "source": [
    "Autorzy:   \n",
    "Bartosz Świrta  \n",
    "Radosław Radziukiewicz\n",
    "\n",
    "# Opis przedstawionego problemu\n",
    "\n",
    "Zdecydowaliśmy się na współpracę z firmą eSzoping, która posiada sklep internetowy. W ramach współpracy zostaliśmy przez tę firmę zatrudnieni na stanowisku analityków. Poproszono nas o realizowanie poniższego zadania:\n",
    "\n",
    ">Są osoby, które wchodzą na naszą stronę i nie mogą się zdecydować, którym produktom przyjrzeć się nieco lepiej. Może dało by się im coś polecić?\n",
    "\n",
    "Z tak postawionego problemu wynika, że naszym celem jest wytworzenie systemu, który będzie rekomendował \"*interesujące dla użytkownika*\" produkty. Szczególnie należy podkreślić, że w problemie nie ma mowy bezpośrednio o podniesieniu liczby odsłon produktów czy podniesieniu wyników sprzedaży.\n",
    "\n",
    "\n",
    "# Analiza problemu\n",
    "\n",
    "Aby móc poprawnie zrealizować poświęcone nam zadanie, musimy przeprowadzić szczegółową analizę zagadnienia, którym będziemy się zajmować. Celem niniejszego notebook'a jest nakreślenie zagadnienia biznesowego badanego problemu oraz ustalenie kryteriów sukcesu. Ponadto skupimy się również na analitycznym aspekcie przedsięwzięcia i zaproponujemy wstępne kryteria sukcesu również w tej dziedzinie.\n",
    "\n",
    "## Zagadnienie biznesowe\n",
    "\n",
    "Naszym celem jest rekomendacja produktów użytkownikom którzy *nie mogą się zdecydować, którym produktom przyjrzeć się nieco lepiej*. Warto zaznaczyć tutaj, co dokładnie rozumiemy poprzez określenie **użytkownik**:\n",
    "\n",
    "- Użytkownik / Klient - osoba odwiedzająca stronę sklepu internetowego eSzoppping.\n",
    "\n",
    "Jak zaznaczono wcześniej, w sformułowaniu nie ma bezpośrednio mowy o podniesieniu liczby odsłon produktów czy zwiększeniu wyników sprzedaży. Zakładamy zatem, iż pierwotnym celem całej operacji będzie *podniesienie satysfakcji z korzystania ze strony przez użytkowników*. Zakładamy, iż podniesienie satysfakcji będzie wynikać w tym momencie bezpośrednio z poczucia \"zaopiekowania\" podczas przeglądania katalogu produktów. Finalnie stwierdzamy, iż zagadnieniem biznesowym będzie **wdrożenie nowego systemu, który podniesie satysfakcję klientów korzystających ze strony internetowej sklepu poprzez rekomendację trafnych dla nich produktów**.\n",
    "\n",
    "## Biznesowe kryterium sukcesu\n",
    "\n",
    "Biznesowe kryterium sukcesu wydaje się wynikać samoistnie z zaproponowanego powyżej zagadnienia biznesowego. Powinno ono uwzględniać element trafnej rekomendacji produktu dla klienta. Stwierdzamy zatem, iż kryterium sukcesu będzie umiejętność **generacji trafnych rekomendacji dla użytkownika**. Rekomendacja trafna to taka, która spełnia jego oczekiwania lub jest przez niego uważana za atrakcyjną. Spodziewamy się, że w wyniku generowania trafnych rekomendacji ruch w serwisie powinnien się zwiększyć - zakładamy, iż zwiększona satysfakcja użytkowników z korzystania ze strony bezpośrednio przełoży się na zwiększoną interakcję w obrębie sklepu internetowego. \n",
    "W wyniku trafnych rekomandacji, system powinien zwiększyć dzienną liczbę odsłon produktów o 10%. \n",
    "\n",
    "## Zadanie modelowania\n",
    "\n",
    "W ramach projektu wykonane zostanie jedno zadanie modelowania. Jego celem będzie wytowrzenie modelu rekomendacyjnego, który dla danego użytkownika, na podstawie jego historii interkacji w sklepie (oglądane/kupione produkty), wygeneruje listę polecanych produktów.\n",
    "\n",
    "## Zagadnienie analityczne\n",
    "\n",
    "Kolejnym etapem naszej analizy powinno być skupienie się na analitycznym zagadnieniu przedstawionego problemu. Niewątpliwie, naszym zadaniem jest **stworzenie systemu rekomendacji produktów dla klientów przeglądających stronę eSzoping**. W trakcie tworzenia modelu będziemy musieli bazować na dostępnych danych sesji użytkowników, aby na tej podstawie stwierdzić, co mogłoby danego użytkownika zainteresować.\n",
    "\n",
    "## Analityczne kryterium sukcesu\n",
    "\n",
    "Analityczne kryterium sukcesu zakłada osiągnięcie odpowiedniego odsetka trafnych rekomendacji nazwanego *alfa*.\n",
    "\n",
    "Zakładamy, iż stosunek liczby trafnych rekomendacji do liczby wszystkich wygenerowanych rekomandacji powinien być większy lub równy współczynnikowi *alfa*. Parametr alfa został oszacowany na podstawie dostarczonych danych i wynosi 41/dzienna liczba wyświetleń produktów w sklepie, co odpowiada w przybliżeniu 10% średniego dziennego ruchu na stronie. \n",
    "\n",
    "## Dane wejściowe i wyjściowe modelu\n",
    "\n",
    "Dane wejściowe modelu używane do przeprowadzenia predykcji składać się będą z dotychczasowej historii użytkownika (format historii i danych w niej zawartych będzie ulegać \"krystalizacji\" w trakcie rozwoju implementacji zadania). Rezultatem wynikowym będzie lista produktów które potencjalnie mogą być dla użytkownika interesujące.\n",
    "\n",
    "## Dostaczone rozwiązanie\n",
    "\n",
    "Stworzony model zostanie dostarczony w postaci mikro-serwisu udzielającego rekomendacji w trybie online. Dostęp do serwisu będzie możliwy poprzed wykonanie żądania w konwencji REST API. Żądanie powinno zawierać odpowiednie dane umożliwiające skorzystanie z mikro-serwisu. Odpowiedzią udzielaną przez mikroseris będzie rekomendacja zaproponowana przez system.\n",
    "\n",
    "\n",
    "## Przyjęte założenia\n",
    "\n",
    "- Model zostanie zbudowany wyłącznie w oparciu o dostarczone przez prowadzącego dane, w szczególności nie mamy możliwości zebrania danych na własną rękę.\n",
    "- Docelowe rozwiązanie ma umożliwiać ciągłe rekomendowanie (system działajacy ciągle)."
   ]
  }
 ],
 "metadata": {
  "kernelspec": {
   "display_name": "Python 3 (ipykernel)",
   "language": "python",
   "name": "python3"
  },
  "language_info": {
   "codemirror_mode": {
    "name": "ipython",
    "version": 3
   },
   "file_extension": ".py",
   "mimetype": "text/x-python",
   "name": "python",
   "nbconvert_exporter": "python",
   "pygments_lexer": "ipython3",
   "version": "3.10.0"
  }
 },
 "nbformat": 4,
 "nbformat_minor": 5
}
