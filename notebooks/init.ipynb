{
 "cells": [
  {
   "cell_type": "markdown",
   "metadata": {
    "collapsed": false,
    "pycharm": {
     "name": "#%% md\n"
    }
   },
   "source": [
    "## Converting jsonl files to json\n",
    "Below we present small utility function used\n",
    "for converting the .jsonl files into valid\n",
    ".json objects. <br>\n",
    "Conversion takes place since it is easier to manage\n",
    "and manipulate data stored in .json files."
   ]
  },
  {
   "cell_type": "code",
   "execution_count": 1,
   "metadata": {},
   "outputs": [],
   "source": [
    "def jsonl_to_json(source_data, target_data):\n",
    "    with open(source_data, 'r', encoding=\"utf-8\") as jsonl_file:\n",
    "        json_list = list(jsonl_file)\n",
    "\n",
    "    with open(target_data, 'w', encoding=\"utf-8\") as json_file:\n",
    "        json_file.write(\"[\\n\")\n",
    "        commas = len(json_list) - 1\n",
    "        for json_object in json_list:\n",
    "            json_line = json_object + (\",\\n\" if commas > 0 else \"\")\n",
    "            json_file.write(json_line)\n",
    "            commas -= 1\n",
    "        json_file.write(\"]\")\n"
   ]
  },
  {
   "cell_type": "markdown",
   "metadata": {
    "collapsed": false,
    "pycharm": {
     "name": "#%% md\n"
    }
   },
   "source": [
    "Below we present code used for converting all .jsonl files into\n",
    ".json files."
   ]
  },
  {
   "cell_type": "code",
   "execution_count": 4,
   "metadata": {
    "collapsed": false,
    "pycharm": {
     "name": "#%%\n"
    }
   },
   "outputs": [],
   "source": [
    "source_data_path = 'data/raw/'\n",
    "source_extension = '.jsonl'\n",
    "\n",
    "target_data_path = 'data/processed/converted/'\n",
    "target_extension = '.json'\n",
    "\n",
    "filenames_to_convert = ['deliveries', 'products', 'sessions', 'users']\n",
    "\n",
    "for filename in filenames_to_convert:\n",
    "    source = source_data_path + filename + source_extension\n",
    "    target = target_data_path + filename + target_extension\n",
    "    jsonl_to_json(source, target)"
   ]
  }
 ],
 "metadata": {
  "kernelspec": {
   "display_name": "Python 3 (ipykernel)",
   "language": "python",
   "name": "python3"
  },
  "language_info": {
   "codemirror_mode": {
    "name": "ipython",
    "version": 3
   },
   "file_extension": ".py",
   "mimetype": "text/x-python",
   "name": "python",
   "nbconvert_exporter": "python",
   "pygments_lexer": "ipython3",
   "version": "3.9.7"
  },
  "orig_nbformat": 4
 },
 "nbformat": 4,
 "nbformat_minor": 2
}
