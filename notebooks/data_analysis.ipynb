{
 "cells": [
  {
   "cell_type": "markdown",
   "metadata": {
    "pycharm": {
     "name": "#%% md\n"
    }
   },
   "source": [
    "# Na jakie dane będziemy zwracać uwagę?\n",
    "\n",
    "Ponieważ naszym zadaniem jest skonstruowanie systemu rekomendującego **produkty użytkownikom na podstawie ich sesji**,\n",
    "będziemy potrzebowali danych użytkowników obecnych w systemie sklepu eSzoping, wraz z ich listą intreakcji.\n",
    "\n",
    "---\n",
    "\n",
    "### Dane użytkowników\n",
    "\n",
    "Dane użytkowników zawarte są w pliku **users.jsonl**.\n",
    "\n",
    "Pojedynczy rekord opisujący użytkownika składa się z następujących kolumn:\n",
    "- id użytkownika w systemie\n",
    "- imię użytkownika\n",
    "- miasto zamieszkania\n",
    "- adres zamieszkania\n",
    "\n",
    "Przypuszczalnie, nie wszystkie informacje zawarte w rekordach będą dla nas użyteczne. Dalsza analiza oceni przydatność poszczególnych atrybutów.\n",
    "\n",
    "---\n",
    "\n",
    "### Dane produktów\n",
    "\n",
    "Dane związane z produktami zawarte są w pliku **products.jsonl**.\n",
    "\n",
    "Pojedynczy rekord opisujący produkt składa się z następujących kolumn:\n",
    "- id produktu w systemie\n",
    "- nazwa produktu\n",
    "- kategoria przynależności produktu\n",
    "- cena produktu\n",
    "- ocena produktu\n",
    "\n",
    "Przypuszczalnie, nie wszystkie informacje zawarte w rekordach będą dla nas użyteczne. Dalsza analiza oceni przydatność poszczególnych atrybutów.\n",
    "\n",
    "---\n",
    "\n",
    "\n",
    "### Dane sesji\n",
    "\n",
    "Dane łączące użytkowników z produktami zawarte są w pliku **sessions.jsonl**.\n",
    "Plik ten zawiera rekordy opisujące aktywności użytkowników w obrębie strony eSzoping.\n",
    "\n",
    "Pojedynczy rekord opisujący akcję użytkownika w systemie składa się z następujących kolumn:\n",
    "- id sesji w systemie\n",
    "- punkt w czasie odbycia się aktywności\n",
    "- id użytkownika którego dotyczy wydarzenie\n",
    "- id produktu którego dotyczy wydarzenie\n",
    "- typ wydarzenia\n",
    "- informacja o oferowanej zniżce\n",
    "- id dokonanego zakupu\n",
    "\n",
    "Aby wydobyć \"pełnię\" informacji odnośnie sesji, będziemy musieli uwzględnić pliki opisujące **produkty i użytkowników** w analizie danych sesji.\n",
    "\n",
    "Przypuszczalnie, nie wszystkie informacje zawarte w rekordach będą dla nas użyteczne. Dalsza analiza oceni przydatność poszczególnych atrybutów.\n",
    "\n",
    "---\n",
    "\n",
    "### Nieistotne dane\n",
    "\n",
    "Dane, których nie użyjemy w trakcie analizy, to te zawarte w pliku **deliveries.jsonl**. Plik ten zawiera rekordy opisujące zdarzenia dowozu produktu do kupującego. Zakładamy, iż dane te są nieistotne z punktu widzenia interakcji użytkownika ze sklepem internetowym."
   ]
  },
  {
   "cell_type": "code",
   "execution_count": 1,
   "metadata": {},
   "outputs": [],
   "source": [
    "import pandas as pd\n",
    "import seaborn as sns\n",
    "\n",
    "# Used for verbose data presentation.\n",
    "pd.set_option('display.max_rows', None)\n",
    "pd.set_option('display.max_columns', None)\n",
    "pd.set_option('max_colwidth', None)\n",
    "\n",
    "usersDataPath = './data/users.jsonl'\n",
    "productsDataPath = './data/products.jsonl'\n",
    "sessionsDataPath = './data/sessions.jsonl'\n",
    "\n",
    "usersDF = pd.read_json(usersDataPath, lines=True)\n",
    "sessionsDF = pd.read_json(sessionsDataPath, lines=True)\n",
    "productsDF = pd.read_json(productsDataPath, lines=True)"
   ]
  },
  {
   "cell_type": "markdown",
   "metadata": {},
   "source": [
    "# Analiza samodzielnych danych\n",
    "\n",
    "Teraz dokładnie przyjrzymy się danym które mogą być analizowane samodzielnie. Zbadamy typy ich atrybutów, rozkłady oraz podejmiemy pierwsze decyzje modelowania danych."
   ]
  },
  {
   "cell_type": "markdown",
   "metadata": {},
   "source": [
    "## Dane produktów\n",
    "\n",
    "Aby mieć lepsze \"poczucie\" analizowanych danych, poniżej prezentujemy 10 pierwszych rekordów obecnych w dostarczonych danych."
   ]
  },
  {
   "cell_type": "code",
   "execution_count": 4,
   "metadata": {},
   "outputs": [
    {
     "data": {
      "text/html": [
       "<div>\n",
       "<style scoped>\n",
       "    .dataframe tbody tr th:only-of-type {\n",
       "        vertical-align: middle;\n",
       "    }\n",
       "\n",
       "    .dataframe tbody tr th {\n",
       "        vertical-align: top;\n",
       "    }\n",
       "\n",
       "    .dataframe thead th {\n",
       "        text-align: right;\n",
       "    }\n",
       "</style>\n",
       "<table border=\"1\" class=\"dataframe\">\n",
       "  <thead>\n",
       "    <tr style=\"text-align: right;\">\n",
       "      <th></th>\n",
       "      <th>product_id</th>\n",
       "      <th>product_name</th>\n",
       "      <th>category_path</th>\n",
       "      <th>price</th>\n",
       "      <th>user_rating</th>\n",
       "    </tr>\n",
       "  </thead>\n",
       "  <tbody>\n",
       "    <tr>\n",
       "      <th>0</th>\n",
       "      <td>1001</td>\n",
       "      <td>Telefon Siemens Gigaset DA310</td>\n",
       "      <td>Telefony i akcesoria;Telefony stacjonarne</td>\n",
       "      <td>58.97</td>\n",
       "      <td>4.740862</td>\n",
       "    </tr>\n",
       "    <tr>\n",
       "      <th>1</th>\n",
       "      <td>1002</td>\n",
       "      <td>Kyocera FS-1135MFP</td>\n",
       "      <td>Komputery;Drukarki i skanery;Biurowe urządzenia wielofunkcyjne</td>\n",
       "      <td>2048.50</td>\n",
       "      <td>1.564504</td>\n",
       "    </tr>\n",
       "    <tr>\n",
       "      <th>2</th>\n",
       "      <td>1003</td>\n",
       "      <td>Kyocera FS-3640MFP</td>\n",
       "      <td>Komputery;Drukarki i skanery;Biurowe urządzenia wielofunkcyjne</td>\n",
       "      <td>7639.00</td>\n",
       "      <td>3.520694</td>\n",
       "    </tr>\n",
       "    <tr>\n",
       "      <th>3</th>\n",
       "      <td>1004</td>\n",
       "      <td>Fallout 3 (Xbox 360)</td>\n",
       "      <td>Gry i konsole;Gry na konsole;Gry Xbox 360</td>\n",
       "      <td>49.99</td>\n",
       "      <td>4.334193</td>\n",
       "    </tr>\n",
       "    <tr>\n",
       "      <th>4</th>\n",
       "      <td>1005</td>\n",
       "      <td>Szalone Króliki Na żywo i w kolorze (Xbox 360)</td>\n",
       "      <td>Gry i konsole;Gry na konsole;Gry Xbox 360</td>\n",
       "      <td>49.99</td>\n",
       "      <td>4.496124</td>\n",
       "    </tr>\n",
       "    <tr>\n",
       "      <th>5</th>\n",
       "      <td>1006</td>\n",
       "      <td>Call of Duty 4 Modern Warfare (Xbox 360)</td>\n",
       "      <td>Gry i konsole;Gry na konsole;Gry Xbox 360</td>\n",
       "      <td>59.90</td>\n",
       "      <td>0.405119</td>\n",
       "    </tr>\n",
       "    <tr>\n",
       "      <th>6</th>\n",
       "      <td>1007</td>\n",
       "      <td>Dead Space 3 (Xbox 360)</td>\n",
       "      <td>Gry i konsole;Gry na konsole;Gry Xbox 360</td>\n",
       "      <td>89.99</td>\n",
       "      <td>1.889997</td>\n",
       "    </tr>\n",
       "    <tr>\n",
       "      <th>7</th>\n",
       "      <td>1008</td>\n",
       "      <td>Tom Clancy&amp;#39;s Rainbow Six Vegas (Xbox 360)</td>\n",
       "      <td>Gry i konsole;Gry na konsole;Gry Xbox 360</td>\n",
       "      <td>49.99</td>\n",
       "      <td>2.097467</td>\n",
       "    </tr>\n",
       "    <tr>\n",
       "      <th>8</th>\n",
       "      <td>1009</td>\n",
       "      <td>Kinect Joy Ride (Xbox 360)</td>\n",
       "      <td>Gry i konsole;Gry na konsole;Gry Xbox 360</td>\n",
       "      <td>69.00</td>\n",
       "      <td>0.304420</td>\n",
       "    </tr>\n",
       "    <tr>\n",
       "      <th>9</th>\n",
       "      <td>1010</td>\n",
       "      <td>BioShock 2 (Xbox 360)</td>\n",
       "      <td>Gry i konsole;Gry na konsole;Gry Xbox 360</td>\n",
       "      <td>89.99</td>\n",
       "      <td>3.894822</td>\n",
       "    </tr>\n",
       "  </tbody>\n",
       "</table>\n",
       "</div>"
      ],
      "text/plain": [
       "   product_id                                    product_name  \\\n",
       "0        1001                   Telefon Siemens Gigaset DA310   \n",
       "1        1002                              Kyocera FS-1135MFP   \n",
       "2        1003                              Kyocera FS-3640MFP   \n",
       "3        1004                            Fallout 3 (Xbox 360)   \n",
       "4        1005  Szalone Króliki Na żywo i w kolorze (Xbox 360)   \n",
       "5        1006        Call of Duty 4 Modern Warfare (Xbox 360)   \n",
       "6        1007                         Dead Space 3 (Xbox 360)   \n",
       "7        1008   Tom Clancy&#39;s Rainbow Six Vegas (Xbox 360)   \n",
       "8        1009                      Kinect Joy Ride (Xbox 360)   \n",
       "9        1010                           BioShock 2 (Xbox 360)   \n",
       "\n",
       "                                                    category_path    price  \\\n",
       "0                       Telefony i akcesoria;Telefony stacjonarne    58.97   \n",
       "1  Komputery;Drukarki i skanery;Biurowe urządzenia wielofunkcyjne  2048.50   \n",
       "2  Komputery;Drukarki i skanery;Biurowe urządzenia wielofunkcyjne  7639.00   \n",
       "3                       Gry i konsole;Gry na konsole;Gry Xbox 360    49.99   \n",
       "4                       Gry i konsole;Gry na konsole;Gry Xbox 360    49.99   \n",
       "5                       Gry i konsole;Gry na konsole;Gry Xbox 360    59.90   \n",
       "6                       Gry i konsole;Gry na konsole;Gry Xbox 360    89.99   \n",
       "7                       Gry i konsole;Gry na konsole;Gry Xbox 360    49.99   \n",
       "8                       Gry i konsole;Gry na konsole;Gry Xbox 360    69.00   \n",
       "9                       Gry i konsole;Gry na konsole;Gry Xbox 360    89.99   \n",
       "\n",
       "   user_rating  \n",
       "0     4.740862  \n",
       "1     1.564504  \n",
       "2     3.520694  \n",
       "3     4.334193  \n",
       "4     4.496124  \n",
       "5     0.405119  \n",
       "6     1.889997  \n",
       "7     2.097467  \n",
       "8     0.304420  \n",
       "9     3.894822  "
      ]
     },
     "execution_count": 4,
     "metadata": {},
     "output_type": "execute_result"
    }
   ],
   "source": [
    "productsDF.head(n=10)"
   ]
  },
  {
   "cell_type": "markdown",
   "metadata": {},
   "source": [
    "Już z tych przykładowych danych możemy wyciągnąć kilka interesujących wniosków. Po pierwsze, ceny produktów mogę w sposób znaczący różnić się między sobą (58.97 kontra 7639.00). Po drugie, ocena produktu może mieć wartość poniżej 1 (przykład z 5 wiersza). Po trzecie, nazwa produktu wydaje się być zbędna w momencie posiadania jego identyfikatora (jest ona po prostu kolejnym unikatowym ciągiem znaków). Po czwarte, i to jest najabrdziej istotny wniosek, kolumna **category_path** zawiera informacją o kategorii produktu w formie \"doprecyzowywania\" tzn. kategorie rozdzielane są znakiem **;** a najistotniejsza kategoria umieszczona jest na samym początku napisu."
   ]
  },
  {
   "cell_type": "code",
   "execution_count": 5,
   "metadata": {},
   "outputs": [
    {
     "name": "stdout",
     "output_type": "stream",
     "text": [
      "<class 'pandas.core.frame.DataFrame'>\n",
      "RangeIndex: 319 entries, 0 to 318\n",
      "Data columns (total 5 columns):\n",
      " #   Column         Non-Null Count  Dtype  \n",
      "---  ------         --------------  -----  \n",
      " 0   product_id     319 non-null    int64  \n",
      " 1   product_name   319 non-null    object \n",
      " 2   category_path  319 non-null    object \n",
      " 3   price          319 non-null    float64\n",
      " 4   user_rating    319 non-null    float64\n",
      "dtypes: float64(2), int64(1), object(2)\n",
      "memory usage: 12.6+ KB\n"
     ]
    }
   ],
   "source": [
    "productsDF.info()"
   ]
  },
  {
   "cell_type": "markdown",
   "metadata": {},
   "source": [
    "Widzimy, iż dane produktów nie zawierają żadnych brakujących wartości. \n",
    "\n",
    "Dane produktów zawierają dwie kolumny o typie napisowym (product_name oraz category_path), jedną o typie całkowitym (product_id) oraz dwie o typie zmiennoprzecinkowym (price i user_rating)."
   ]
  },
  {
   "cell_type": "markdown",
   "metadata": {},
   "source": [
    "### Identyfikatory produktu\n",
    "\n",
    "W celu lepszego zaznajomienia się z danymi opisującymi identyfikator produktu dokonujemy dalszej analizy kolumny **product_id**."
   ]
  },
  {
   "cell_type": "code",
   "execution_count": 29,
   "metadata": {},
   "outputs": [
    {
     "name": "stdout",
     "output_type": "stream",
     "text": [
      "Max id of the product is: 1319\n",
      "Min id of the product is: 1001\n",
      "Disctinct id count is: 319\n"
     ]
    }
   ],
   "source": [
    "print('Max id of the product is: {}'.format(productsDF['product_id'].max()))\n",
    "print('Min id of the product is: {}'.format(productsDF['product_id'].min()))\n",
    "print('Disctinct id count is: {}'.format(productsDF['product_id'].nunique()))"
   ]
  },
  {
   "cell_type": "markdown",
   "metadata": {},
   "source": [
    "Jak widzimy, minimalnym identyfikatorem produktu jest wartość **1001** a maksymalnym wartość **1319**. Ponadto wszystkie wartości pomiędzy **1001 a 1319** są osiągane dokładnie 1 raz."
   ]
  },
  {
   "cell_type": "markdown",
   "metadata": {},
   "source": [
    "### Nazwy produktu\n",
    "\n",
    "Następnie analizie poddamy kolumnę opisującą nazwę produktu **product_name**."
   ]
  },
  {
   "cell_type": "code",
   "execution_count": 7,
   "metadata": {},
   "outputs": [
    {
     "name": "stdout",
     "output_type": "stream",
     "text": [
      "Distinct name count is: 319\n"
     ]
    }
   ],
   "source": [
    "print('Distinct name count is: {}'.format(productsDF['product_name'].nunique()))"
   ]
  },
  {
   "cell_type": "markdown",
   "metadata": {},
   "source": [
    "Widzimy, iż w naszych danych nie występują produkty o tych samych nazwach."
   ]
  },
  {
   "cell_type": "markdown",
   "metadata": {},
   "source": [
    "### Scieżka kategorii\n",
    "\n",
    "Teraz analizie poddamy kolumnę opisującą scieżkę kategorii produktu **category_path**. W tym celu przyjrzymy się dostępnym ścieżkom kategorii oraz liczności każdej z nich tzn. ile produktów należy do danej ścieżki."
   ]
  },
  {
   "cell_type": "code",
   "execution_count": 8,
   "metadata": {},
   "outputs": [
    {
     "name": "stdout",
     "output_type": "stream",
     "text": [
      "                                    Gry i konsole;Gry komputerowe\n",
      "                    Gry i konsole;Gry na konsole;Gry PlayStation3\n",
      "                        Gry i konsole;Gry na konsole;Gry Xbox 360\n",
      "   Komputery;Drukarki i skanery;Biurowe urządzenia wielofunkcyjne\n",
      "                                  Komputery;Monitory;Monitory LCD\n",
      "                            Komputery;Tablety i akcesoria;Tablety\n",
      "                                       Sprzęt RTV;Audio;Słuchawki\n",
      "         Sprzęt RTV;Przenośne audio i video;Odtwarzacze mp3 i mp4\n",
      "                                 Sprzęt RTV;Video;Odtwarzacze DVD\n",
      "               Sprzęt RTV;Video;Telewizory i akcesoria;Anteny RTV\n",
      "               Sprzęt RTV;Video;Telewizory i akcesoria;Okulary 3D\n",
      "Telefony i akcesoria;Akcesoria telefoniczne;Zestawy głośnomówiące\n",
      "  Telefony i akcesoria;Akcesoria telefoniczne;Zestawy słuchawkowe\n",
      "                          Telefony i akcesoria;Telefony komórkowe\n",
      "                        Telefony i akcesoria;Telefony stacjonarne\n"
     ]
    }
   ],
   "source": [
    "print(productsDF['category_path'].drop_duplicates().reset_index(drop=True).sort_values().to_string(index=False))"
   ]
  },
  {
   "cell_type": "markdown",
   "metadata": {},
   "source": [
    "Zauważamy, że ścieżki kategorii tworzą hierarchię. Każda kategoria ma swój korzeń, który jest rozwijany poprzez ewentualne dopisywanie nowych podkategorii."
   ]
  },
  {
   "cell_type": "code",
   "execution_count": 9,
   "metadata": {},
   "outputs": [
    {
     "data": {
      "text/plain": [
       "category_path\n",
       "Gry i konsole;Gry komputerowe                                        202\n",
       "Gry i konsole;Gry na konsole;Gry Xbox 360                             32\n",
       "Sprzęt RTV;Video;Telewizory i akcesoria;Anteny RTV                    30\n",
       "Komputery;Monitory;Monitory LCD                                       17\n",
       "Gry i konsole;Gry na konsole;Gry PlayStation3                          9\n",
       "Komputery;Drukarki i skanery;Biurowe urządzenia wielofunkcyjne         9\n",
       "Telefony i akcesoria;Akcesoria telefoniczne;Zestawy głośnomówiące      5\n",
       "Telefony i akcesoria;Akcesoria telefoniczne;Zestawy słuchawkowe        4\n",
       "Komputery;Tablety i akcesoria;Tablety                                  2\n",
       "Sprzęt RTV;Przenośne audio i video;Odtwarzacze mp3 i mp4               2\n",
       "Sprzęt RTV;Video;Odtwarzacze DVD                                       2\n",
       "Telefony i akcesoria;Telefony komórkowe                                2\n",
       "Sprzęt RTV;Audio;Słuchawki                                             1\n",
       "Sprzęt RTV;Video;Telewizory i akcesoria;Okulary 3D                     1\n",
       "Telefony i akcesoria;Telefony stacjonarne                              1\n",
       "Name: product_id, dtype: int64"
      ]
     },
     "execution_count": 9,
     "metadata": {},
     "output_type": "execute_result"
    }
   ],
   "source": [
    "productsDF.groupby('category_path')['product_id'].count().sort_values(ascending=False)"
   ]
  },
  {
   "cell_type": "markdown",
   "metadata": {},
   "source": [
    "Powyższy wynik ukazuje nam, że liczba produktów w kategoriach nie jest rozłożona w sposób równomierny. Niektóre kategorie posiadają jedynie jeden zakwalifikowany produkt, podczas gdy inne zawierają ich aż kilkadziesiąt lub kilkaset. Proponowanym rozwiązaniem będzie zmieniejszenie liczby dostępnych kategorii poprzez rzutowanie danych na odpowiedni korzeń hierarchi kategorii. \n",
    "\n",
    "Poprzez rzutowanie moglibyśmy otrzymać następujące wyniki:\n",
    "- \"Gry komputerowe\": 202\n",
    "- \"Gry na konsole\": 41 (Xbox and PS3)\n",
    "- \"Sprzęt RTV\": 36\n",
    "- \"Komputery\": 28\n",
    "- \"Telefony i akcesoria\": 12\n",
    "\n",
    "Liczba i liczność wytworzonych kategorii wydaje się być zadowalająca na ten moment."
   ]
  },
  {
   "cell_type": "code",
   "execution_count": 10,
   "metadata": {},
   "outputs": [
    {
     "name": "stdout",
     "output_type": "stream",
     "text": [
      "Gry komputerowe         202\n",
      "Gry na konsole           41\n",
      "Sprzęt RTV               36\n",
      "Komputery                28\n",
      "Telefony i akcesoria     12\n",
      "Name: category_path, dtype: int64\n"
     ]
    }
   ],
   "source": [
    "separator = ';'\n",
    "newGroups = ['Gry komputerowe', 'Gry na konsole', 'Sprzęt RTV', 'Komputery', 'Telefony i akcesoria']\n",
    "\n",
    "def castCategoryPath(categoryPath):\n",
    "    categories = categoryPath.split(separator)\n",
    "    foundGroups = [group for group in newGroups if group in categories]\n",
    "    if len(foundGroups) != 1:\n",
    "        raise RuntimeError('wrong group cast: {}'.format(foundGroups))\n",
    "    return foundGroups[0]\n",
    "\n",
    "transformed = productsDF['category_path'].apply(castCategoryPath)\n",
    "print(transformed.value_counts())"
   ]
  },
  {
   "cell_type": "markdown",
   "metadata": {},
   "source": [
    "### Cena produktu\n",
    "\n",
    "Poniżej przedstawiamy histogram prezentujący rozkład wartości cen zawartych w kolumnie **price**."
   ]
  },
  {
   "cell_type": "code",
   "execution_count": 11,
   "metadata": {},
   "outputs": [
    {
     "name": "stdout",
     "output_type": "stream",
     "text": [
      "Max price is: 7639.0\n",
      "Min price is: 1.0\n"
     ]
    },
    {
     "data": {
      "text/plain": [
       "<seaborn.axisgrid.FacetGrid at 0x168cb326e00>"
      ]
     },
     "execution_count": 11,
     "metadata": {},
     "output_type": "execute_result"
    },
    {
     "data": {
      "image/png": "[encoded data removed]",
      "text/plain": [
       "<Figure size 360x360 with 1 Axes>"
      ]
     },
     "metadata": {
      "needs_background": "light"
     },
     "output_type": "display_data"
    }
   ],
   "source": [
    "print('Max price is: {}'.format(productsDF['price'].max()))\n",
    "print('Min price is: {}'.format(productsDF['price'].min()))\n",
    "\n",
    "sns.displot(data=productsDF, x=\"price\", kind=\"kde\")"
   ]
  },
  {
   "cell_type": "code",
   "execution_count": 12,
   "metadata": {
    "scrolled": true
   },
   "outputs": [
    {
     "data": {
      "text/plain": [
       "<AxesSubplot:xlabel='price'>"
      ]
     },
     "execution_count": 12,
     "metadata": {},
     "output_type": "execute_result"
    },
    {
     "data": {
      "image/png": "[encoded data removed]",
      "text/plain": [
       "<Figure size 432x288 with 1 Axes>"
      ]
     },
     "metadata": {
      "needs_background": "light"
     },
     "output_type": "display_data"
    }
   ],
   "source": [
    "sns.violinplot(data=productsDF, x='price')"
   ]
  },
  {
   "cell_type": "markdown",
   "metadata": {},
   "source": [
    "Widzimy, że zdecydowana większość cen mieści się w poniżej kwoty 100. Niestety, wartości odstające zakłócają wygląd wykresów. Decydujemy się rozbić produkty na tańsze i droższe. Jak punkt podziału przyjmujemy wartość 100. "
   ]
  },
  {
   "cell_type": "code",
   "execution_count": 13,
   "metadata": {},
   "outputs": [
    {
     "name": "stdout",
     "output_type": "stream",
     "text": [
      "Cheap products amount is: 247\n",
      "Expensie products amount is: 72\n"
     ]
    },
    {
     "data": {
      "image/png": "[encoded data removed]",
      "text/plain": [
       "<Figure size 360x360 with 1 Axes>"
      ]
     },
     "metadata": {
      "needs_background": "light"
     },
     "output_type": "display_data"
    },
    {
     "data": {
      "image/png": "[encoded data removed]",
      "text/plain": [
       "<Figure size 360x360 with 1 Axes>"
      ]
     },
     "metadata": {
      "needs_background": "light"
     },
     "output_type": "display_data"
    }
   ],
   "source": [
    "threshold = 100\n",
    "\n",
    "cheapProducts = (productsDF.loc[productsDF['price'] < threshold], 'Cheap')\n",
    "expensiveProducts = (productsDF.loc[productsDF['price'] >= threshold], 'Expensie')\n",
    "\n",
    "productsSplit = [cheapProducts, expensiveProducts]\n",
    "\n",
    "for ps in productsSplit:\n",
    "    print('{} products amount is: {}'.format(ps[1], ps[0]['price'].count()))\n",
    "    sns.displot(data=ps[0], x=\"price\", kind=\"kde\")"
   ]
  },
  {
   "cell_type": "markdown",
   "metadata": {},
   "source": [
    "Jak widzimy, wartości zmiennej opisującej ceny produktu nie są rozłożone w sposób równomierny. Przypominają jednak złożenia kilku rozkładów normalnych których wartości oczekiwane i wariancje są różne. Interesujące wydają nam się również produkty z ceną 1.0. Postanawiamy przyjrzeć się rekordom z taką ceną."
   ]
  },
  {
   "cell_type": "code",
   "execution_count": 14,
   "metadata": {},
   "outputs": [
    {
     "data": {
      "text/html": [
       "<div>\n",
       "<style scoped>\n",
       "    .dataframe tbody tr th:only-of-type {\n",
       "        vertical-align: middle;\n",
       "    }\n",
       "\n",
       "    .dataframe tbody tr th {\n",
       "        vertical-align: top;\n",
       "    }\n",
       "\n",
       "    .dataframe thead th {\n",
       "        text-align: right;\n",
       "    }\n",
       "</style>\n",
       "<table border=\"1\" class=\"dataframe\">\n",
       "  <thead>\n",
       "    <tr style=\"text-align: right;\">\n",
       "      <th></th>\n",
       "      <th>product_id</th>\n",
       "      <th>product_name</th>\n",
       "      <th>category_path</th>\n",
       "      <th>price</th>\n",
       "      <th>user_rating</th>\n",
       "    </tr>\n",
       "  </thead>\n",
       "  <tbody>\n",
       "    <tr>\n",
       "      <th>140</th>\n",
       "      <td>1141</td>\n",
       "      <td>Król Futbolu Piłkarski Quiz (PC)</td>\n",
       "      <td>Gry i konsole;Gry komputerowe</td>\n",
       "      <td>1.0</td>\n",
       "      <td>3.462897</td>\n",
       "    </tr>\n",
       "    <tr>\n",
       "      <th>192</th>\n",
       "      <td>1193</td>\n",
       "      <td>Heroes Over Europe (PC)</td>\n",
       "      <td>Gry i konsole;Gry komputerowe</td>\n",
       "      <td>1.0</td>\n",
       "      <td>4.549431</td>\n",
       "    </tr>\n",
       "    <tr>\n",
       "      <th>271</th>\n",
       "      <td>1272</td>\n",
       "      <td>The Ball (PC)</td>\n",
       "      <td>Gry i konsole;Gry komputerowe</td>\n",
       "      <td>1.0</td>\n",
       "      <td>2.286441</td>\n",
       "    </tr>\n",
       "  </tbody>\n",
       "</table>\n",
       "</div>"
      ],
      "text/plain": [
       "     product_id                      product_name  \\\n",
       "140        1141  Król Futbolu Piłkarski Quiz (PC)   \n",
       "192        1193           Heroes Over Europe (PC)   \n",
       "271        1272                     The Ball (PC)   \n",
       "\n",
       "                     category_path  price  user_rating  \n",
       "140  Gry i konsole;Gry komputerowe    1.0     3.462897  \n",
       "192  Gry i konsole;Gry komputerowe    1.0     4.549431  \n",
       "271  Gry i konsole;Gry komputerowe    1.0     2.286441  "
      ]
     },
     "execution_count": 14,
     "metadata": {},
     "output_type": "execute_result"
    }
   ],
   "source": [
    "productsDF.loc[productsDF[\"price\"] == productsDF[\"price\"].min()]"
   ]
  },
  {
   "cell_type": "markdown",
   "metadata": {},
   "source": [
    "W powyższych danych nie dostrzegamy żadnych anomalii."
   ]
  },
  {
   "cell_type": "markdown",
   "metadata": {},
   "source": [
    "### Ocena produktu\n",
    "\n",
    "Poniżej prezentujemy wykres opisujący rozkład wartości zmiennych opisujących opinie o produkcie zawartych w kolumnie **user_rating**."
   ]
  },
  {
   "cell_type": "code",
   "execution_count": 15,
   "metadata": {},
   "outputs": [
    {
     "name": "stdout",
     "output_type": "stream",
     "text": [
      "Max rating is: 4.993596217584222\n",
      "Min rating is: 0.013904725430070002\n"
     ]
    },
    {
     "data": {
      "text/plain": [
       "<seaborn.axisgrid.FacetGrid at 0x168c93269b0>"
      ]
     },
     "execution_count": 15,
     "metadata": {},
     "output_type": "execute_result"
    },
    {
     "data": {
      "image/png": "[encoded data removed]",
      "text/plain": [
       "<Figure size 360x360 with 1 Axes>"
      ]
     },
     "metadata": {
      "needs_background": "light"
     },
     "output_type": "display_data"
    }
   ],
   "source": [
    "print('Max rating is: {}'.format(productsDF['user_rating'].max()))\n",
    "print('Min rating is: {}'.format(productsDF['user_rating'].min()))\n",
    "\n",
    "sns.displot(data=productsDF, x='user_rating', kind='kde')"
   ]
  },
  {
   "cell_type": "markdown",
   "metadata": {},
   "source": [
    "Jak widać, opinie o produktach rozłożone są w sposób bardziej równomierny niż ceny produktów. Ponadto, wszystkie wartości z kolumny **user_rating** zawarte są w przedziale (0,5)."
   ]
  },
  {
   "cell_type": "markdown",
   "metadata": {},
   "source": [
    "## Dane użytkowników\n",
    "\n",
    "Podobnie jak w przypadku analizy danych o produktach, przyjrzyjmy się przykładowym wpisom w dostępnych danych:"
   ]
  },
  {
   "cell_type": "code",
   "execution_count": 18,
   "metadata": {},
   "outputs": [
    {
     "data": {
      "text/html": [
       "<div>\n",
       "<style scoped>\n",
       "    .dataframe tbody tr th:only-of-type {\n",
       "        vertical-align: middle;\n",
       "    }\n",
       "\n",
       "    .dataframe tbody tr th {\n",
       "        vertical-align: top;\n",
       "    }\n",
       "\n",
       "    .dataframe thead th {\n",
       "        text-align: right;\n",
       "    }\n",
       "</style>\n",
       "<table border=\"1\" class=\"dataframe\">\n",
       "  <thead>\n",
       "    <tr style=\"text-align: right;\">\n",
       "      <th></th>\n",
       "      <th>user_id</th>\n",
       "      <th>name</th>\n",
       "      <th>city</th>\n",
       "      <th>street</th>\n",
       "    </tr>\n",
       "  </thead>\n",
       "  <tbody>\n",
       "    <tr>\n",
       "      <th>0</th>\n",
       "      <td>102</td>\n",
       "      <td>Angelika Gasik</td>\n",
       "      <td>Warszawa</td>\n",
       "      <td>al. Kamienna 87</td>\n",
       "    </tr>\n",
       "    <tr>\n",
       "      <th>1</th>\n",
       "      <td>103</td>\n",
       "      <td>Jakub Nickel</td>\n",
       "      <td>Szczecin</td>\n",
       "      <td>ul. Szpitalna 638</td>\n",
       "    </tr>\n",
       "    <tr>\n",
       "      <th>2</th>\n",
       "      <td>104</td>\n",
       "      <td>Emil Żuchowicz</td>\n",
       "      <td>Poznań</td>\n",
       "      <td>ulica Dolna 26</td>\n",
       "    </tr>\n",
       "    <tr>\n",
       "      <th>3</th>\n",
       "      <td>105</td>\n",
       "      <td>Gustaw Pośnik</td>\n",
       "      <td>Wrocław</td>\n",
       "      <td>ul. Osiedlowa 23/03</td>\n",
       "    </tr>\n",
       "    <tr>\n",
       "      <th>4</th>\n",
       "      <td>106</td>\n",
       "      <td>Sylwia Chuchla</td>\n",
       "      <td>Gdynia</td>\n",
       "      <td>aleja Krakowska 84/76</td>\n",
       "    </tr>\n",
       "    <tr>\n",
       "      <th>5</th>\n",
       "      <td>107</td>\n",
       "      <td>Grzegorz Machoń</td>\n",
       "      <td>Kraków</td>\n",
       "      <td>aleja Olchowa 28/90</td>\n",
       "    </tr>\n",
       "    <tr>\n",
       "      <th>6</th>\n",
       "      <td>108</td>\n",
       "      <td>Artur Doktor</td>\n",
       "      <td>Szczecin</td>\n",
       "      <td>pl. Handlowa 69/04</td>\n",
       "    </tr>\n",
       "    <tr>\n",
       "      <th>7</th>\n",
       "      <td>109</td>\n",
       "      <td>Nikodem Pyć</td>\n",
       "      <td>Radom</td>\n",
       "      <td>pl. Wojska Polskiego 404</td>\n",
       "    </tr>\n",
       "    <tr>\n",
       "      <th>8</th>\n",
       "      <td>110</td>\n",
       "      <td>Krystian Lesner</td>\n",
       "      <td>Szczecin</td>\n",
       "      <td>pl. Liliowa 708</td>\n",
       "    </tr>\n",
       "    <tr>\n",
       "      <th>9</th>\n",
       "      <td>111</td>\n",
       "      <td>Klara Szumiec</td>\n",
       "      <td>Gdynia</td>\n",
       "      <td>aleja Grabowa 92</td>\n",
       "    </tr>\n",
       "  </tbody>\n",
       "</table>\n",
       "</div>"
      ],
      "text/plain": [
       "   user_id             name      city                    street\n",
       "0      102   Angelika Gasik  Warszawa           al. Kamienna 87\n",
       "1      103     Jakub Nickel  Szczecin         ul. Szpitalna 638\n",
       "2      104   Emil Żuchowicz    Poznań            ulica Dolna 26\n",
       "3      105    Gustaw Pośnik   Wrocław       ul. Osiedlowa 23/03\n",
       "4      106   Sylwia Chuchla    Gdynia     aleja Krakowska 84/76\n",
       "5      107  Grzegorz Machoń    Kraków       aleja Olchowa 28/90\n",
       "6      108     Artur Doktor  Szczecin        pl. Handlowa 69/04\n",
       "7      109      Nikodem Pyć     Radom  pl. Wojska Polskiego 404\n",
       "8      110  Krystian Lesner  Szczecin           pl. Liliowa 708\n",
       "9      111    Klara Szumiec    Gdynia          aleja Grabowa 92"
      ]
     },
     "execution_count": 18,
     "metadata": {},
     "output_type": "execute_result"
    }
   ],
   "source": [
    "usersDF.head(n=10)"
   ]
  },
  {
   "cell_type": "markdown",
   "metadata": {},
   "source": [
    "Widzimy, że praktycznie wszystkie kolumny posiadają typ napisowy (**name, city, street**). Ponadto, kolumna **street** w rzeczywistości zawiera adres użykownika, a nie ulicę na której mieszka. Pozostałe kolumny wydają się być standardowe w kontekście zawieranych danych."
   ]
  },
  {
   "cell_type": "code",
   "execution_count": 20,
   "metadata": {},
   "outputs": [
    {
     "name": "stdout",
     "output_type": "stream",
     "text": [
      "<class 'pandas.core.frame.DataFrame'>\n",
      "RangeIndex: 200 entries, 0 to 199\n",
      "Data columns (total 4 columns):\n",
      " #   Column   Non-Null Count  Dtype \n",
      "---  ------   --------------  ----- \n",
      " 0   user_id  200 non-null    int64 \n",
      " 1   name     200 non-null    object\n",
      " 2   city     200 non-null    object\n",
      " 3   street   200 non-null    object\n",
      "dtypes: int64(1), object(3)\n",
      "memory usage: 6.4+ KB\n"
     ]
    }
   ],
   "source": [
    "usersDF.info()"
   ]
  },
  {
   "cell_type": "markdown",
   "metadata": {},
   "source": [
    "Widzimy, że dane użytkowników nie zawierają żadnych brakujących wartości. Wszystkie wpisy są kompletne."
   ]
  },
  {
   "cell_type": "markdown",
   "metadata": {},
   "source": [
    "### Identyfikator użytkownika\n",
    "\n",
    "Teraz przyjrzymy się wartościom zawartym w kolumnie **user_id**. Interesuje nas, czy wszystkie wartości są unikalne. Ponadto dobrze byłoby znać zakres identyfikatorów, oraz czy jest on w pełni zapełniony."
   ]
  },
  {
   "cell_type": "code",
   "execution_count": 19,
   "metadata": {},
   "outputs": [
    {
     "name": "stdout",
     "output_type": "stream",
     "text": [
      "Max user id is: 301\n",
      "Min user id is: 102\n",
      "Unique identifiers number is: 200\n"
     ]
    }
   ],
   "source": [
    "print('Max user id is: {}'.format(usersDF['user_id'].max()))\n",
    "print('Min user id is: {}'.format(usersDF['user_id'].min()))\n",
    "print('Unique identifiers number is: {}'.format(usersDF['user_id'].nunique()))"
   ]
  },
  {
   "cell_type": "markdown",
   "metadata": {},
   "source": [
    "Z powyższych wyników wnioskujemy, że zakres identyfikatorów wynosi [102, 301] Ponadto, każda wartość w tym zakresie przyjmowana jest dokładnie jeden raz."
   ]
  },
  {
   "cell_type": "markdown",
   "metadata": {},
   "source": [
    "### Imię użytkownika\n",
    "\n",
    "Następną kolumną, jaką poddamy dalszej analizie, jest ta zawierająca informacje o imieniu użytkownika. Jesteśmy zainteresowani, czy w dostępnych danych istnieje duplikacja użytkownika (różne identyfikatory ale to samo imię i nazwisko)."
   ]
  },
  {
   "cell_type": "code",
   "execution_count": 21,
   "metadata": {},
   "outputs": [
    {
     "name": "stdout",
     "output_type": "stream",
     "text": [
      "Unique name count is: 200\n"
     ]
    }
   ],
   "source": [
    "print('Unique name count is: {}'.format(usersDF['name'].nunique()))"
   ]
  },
  {
   "cell_type": "markdown",
   "metadata": {},
   "source": [
    "Jak widać, wszystkie imiona użytkowników są unikatowe. Dzięki temu, jesteśmy w stanie stwierdzić, że w zbiorze danych nie występują potencjalne anomalie. Poza tym zakładamy, że kolumna o nazwie **name** nie wnosi żadnych nowych informacji do modelu i rozwiązywanego zagadnienia. "
   ]
  },
  {
   "cell_type": "markdown",
   "metadata": {},
   "source": [
    "### Miasto zamieszkania\n",
    "\n",
    "Kolumna zawierająca miasto zamieszkania użytkownika (zakładamy, że jest to miejsce zamieszkania, jednak nie mamy tutaj żadnej pewności co do tego) wydaje się nieść potencjalnie wiele przydatnych informacji. Przede wszystkim dzięki niej jesteśmy w stanie stwierdzić, czy zbiór użytkowników na których operujemy, jest reprezentatywny. Ponadto potencjalnie może zachodzić korelacja pomiędzy miastem zamieszkania a zainteresowaniem pewnymi produktami przez użytkowników. Poniżej prezentujemy histogram z uzyskanymi wynikami."
   ]
  },
  {
   "cell_type": "code",
   "execution_count": 26,
   "metadata": {},
   "outputs": [
    {
     "data": {
      "text/plain": [
       "<seaborn.axisgrid.FacetGrid at 0x168c9326aa0>"
      ]
     },
     "execution_count": 26,
     "metadata": {},
     "output_type": "execute_result"
    },
    {
     "data": {
      "image/png": "[encoded data removed]",
      "text/plain": [
       "<Figure size 576x576 with 1 Axes>"
      ]
     },
     "metadata": {
      "needs_background": "light"
     },
     "output_type": "display_data"
    }
   ],
   "source": [
    "sns.catplot(data=usersDF, kind='count', x='city', height=8)"
   ]
  },
  {
   "cell_type": "markdown",
   "metadata": {},
   "source": [
    "Z powyższego histogramu widzimy, iż pomimo pewnych nieregularności, dane mają rozkład równomierny. Dzięki temu, jesteśmy w stanie stwierdzić, że dane na których pracujemy, są reprezentatywne"
   ]
  },
  {
   "cell_type": "markdown",
   "metadata": {},
   "source": [
    "### Adres zamieszkania\n",
    "\n",
    "Ostatnią kolumną do przeanalizowania jest ta zawierająca dane o adresach zamieszkania użytkowników. Zakładamy, iż prawdopodobnie kolumna to nie będzie dla nas w żaden sposób informatywna. Tym nie mniej, jesteśmy zainteresowani, czy w danych nie występuje duplikacja adresu."
   ]
  },
  {
   "cell_type": "code",
   "execution_count": 28,
   "metadata": {},
   "outputs": [
    {
     "name": "stdout",
     "output_type": "stream",
     "text": [
      "Unique address count is: 200\n"
     ]
    }
   ],
   "source": [
    "print('Unique address count is: {}'.format(usersDF['street'].nunique()))"
   ]
  },
  {
   "cell_type": "markdown",
   "metadata": {},
   "source": [
    "Jak widać, wszystkie adresu są unikatowe."
   ]
  },
  {
   "cell_type": "markdown",
   "metadata": {},
   "source": [
    "# Merged data analysis\n",
    "\n",
    "In this section we will focus on the combined data analysis\n",
    "\n",
    "## Merged data missing values\n",
    "The next question, which comes to our mind, is how the data \"looks\" together. We want to answer questions such as:\n",
    "- Is there a user, who is not present in any session?\n",
    "- Is there a product, which is not present in any session?\n",
    "- Is there a session with unknown user or product?\n",
    "\n",
    "To answer these questions, we have to look at the joined data."
   ]
  },
  {
   "cell_type": "code",
   "execution_count": 16,
   "metadata": {},
   "outputs": [
    {
     "name": "stdout",
     "output_type": "stream",
     "text": [
      "<class 'pandas.core.frame.DataFrame'>\n",
      "Int64Index: 125146 entries, 0 to 125145\n",
      "Data columns (total 14 columns):\n",
      " #   Column            Non-Null Count   Dtype         \n",
      "---  ------            --------------   -----         \n",
      " 0   session_id        125146 non-null  int64         \n",
      " 1   timestamp         125146 non-null  datetime64[ns]\n",
      " 2   user_id           125146 non-null  int64         \n",
      " 3   product_id        125146 non-null  int64         \n",
      " 4   event_type        125146 non-null  object        \n",
      " 5   offered_discount  125146 non-null  int64         \n",
      " 6   purchase_id       10893 non-null   float64       \n",
      " 7   name              125146 non-null  object        \n",
      " 8   city              125146 non-null  object        \n",
      " 9   street            125146 non-null  object        \n",
      " 10  product_name      125146 non-null  object        \n",
      " 11  category_path     125146 non-null  object        \n",
      " 12  price             125146 non-null  float64       \n",
      " 13  user_rating       125146 non-null  float64       \n",
      "dtypes: datetime64[ns](1), float64(3), int64(4), object(6)\n",
      "memory usage: 14.3+ MB\n"
     ]
    }
   ],
   "source": [
    "# Use outer join in order to keep all values from data frames.\n",
    "mergedDF = pd.merge(sessionsDF, usersDF, how='outer', on='user_id')\n",
    "mergedDF = pd.merge(mergedDF, productsDF, how='outer', on='product_id')\n",
    "\n",
    "mergedDF.info()"
   ]
  },
  {
   "cell_type": "markdown",
   "metadata": {},
   "source": [
    "As we see, answer to all above's questions is negative. "
   ]
  },
  {
   "cell_type": "markdown",
   "metadata": {},
   "source": [
    "One key element is to verify that the coverage of the received data is good enough for the prediction task. To check this we created a heat map with columns being offered products and rows being individual users.\n",
    "If user had any interaction with product (either viewed it or bought) there is __1__ in corresponding field. Otherwise filed will be empty."
   ]
  },
  {
   "cell_type": "code",
   "execution_count": 17,
   "metadata": {},
   "outputs": [
    {
     "name": "stdout",
     "output_type": "stream",
     "text": [
      "Sparse matrix density: 0.47782131661442007\n"
     ]
    }
   ],
   "source": [
    "df = sessionsDF.drop(columns=[\"session_id\", \"timestamp\", \"event_type\", \"offered_discount\", \"purchase_id\"])\n",
    "df[\"hit\"] = 1\n",
    "heatMapDF = pd.pivot_table(df, index=\"user_id\", columns=\"product_id\", values=\"hit\")\n",
    "print(\"Sparse matrix density: \" + str((heatMapDF.size - heatMapDF.isna().sum().sum())/heatMapDF.size))\n"
   ]
  },
  {
   "cell_type": "markdown",
   "metadata": {},
   "source": [
    "As wee can see the density of heat map is ~0,48% which is quiet good for our task."
   ]
  }
 ],
 "metadata": {
  "interpreter": {
   "hash": "916dbcbb3f70747c44a77c7bcd40155683ae19c65e1c03b4aa3499c5328201f1"
  },
  "kernelspec": {
   "display_name": "Python 3 (ipykernel)",
   "language": "python",
   "name": "python3"
  },
  "language_info": {
   "codemirror_mode": {
    "name": "ipython",
    "version": 3
   },
   "file_extension": ".py",
   "mimetype": "text/x-python",
   "name": "python",
   "nbconvert_exporter": "python",
   "pygments_lexer": "ipython3",
   "version": "3.10.0"
  }
 },
 "nbformat": 4,
 "nbformat_minor": 2
}
