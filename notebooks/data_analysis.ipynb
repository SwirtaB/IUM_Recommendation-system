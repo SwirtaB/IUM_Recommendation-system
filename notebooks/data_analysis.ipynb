{
 "cells": [
  {
   "cell_type": "markdown",
   "metadata": {
    "pycharm": {
     "name": "#%% md\n"
    }
   },
   "source": [
    "Autorzy:   \n",
    "Bartosz Świrta  \n",
    "Radosław Radziukiewicz\n",
    "\n",
    "# Na jakie dane będziemy zwracać uwagę?\n",
    "\n",
    "Ponieważ naszym zadaniem jest skonstruowanie systemu rekomendującego **produkty użytkownikom na podstawie ich sesji**,\n",
    "będziemy potrzebowali danych użytkowników obecnych w systemie sklepu eSzoping, wraz z ich listą intreakcji.\n",
    "\n",
    "---\n",
    "\n",
    "### Dane użytkowników\n",
    "\n",
    "Dane użytkowników zawarte są w pliku **users.jsonl**.\n",
    "\n",
    "Pojedynczy rekord opisujący użytkownika składa się z następujących kolumn:\n",
    "- id użytkownika w systemie\n",
    "- imię użytkownika\n",
    "- miasto zamieszkania\n",
    "- adres zamieszkania\n",
    "\n",
    "Przypuszczalnie, nie wszystkie informacje zawarte w rekordach będą dla nas użyteczne. Dalsza analiza oceni przydatność poszczególnych atrybutów.\n",
    "\n",
    "---\n",
    "\n",
    "### Dane produktów\n",
    "\n",
    "Dane związane z produktami zawarte są w pliku **products.jsonl**.\n",
    "\n",
    "Pojedynczy rekord opisujący produkt składa się z następujących kolumn:\n",
    "- id produktu w systemie\n",
    "- nazwa produktu\n",
    "- kategoria przynależności produktu\n",
    "- cena produktu\n",
    "- ocena produktu\n",
    "\n",
    "Przypuszczalnie, nie wszystkie informacje zawarte w rekordach będą dla nas użyteczne. Dalsza analiza oceni przydatność poszczególnych atrybutów.\n",
    "\n",
    "---\n",
    "\n",
    "\n",
    "### Dane sesji\n",
    "\n",
    "Dane łączące użytkowników z produktami zawarte są w pliku **sessions.jsonl**.\n",
    "Plik ten zawiera rekordy opisujące aktywności użytkowników w obrębie strony eSzoping.\n",
    "\n",
    "Pojedynczy rekord opisujący akcję użytkownika w systemie składa się z następujących kolumn:\n",
    "- id sesji w systemie\n",
    "- punkt w czasie odbycia się aktywności\n",
    "- id użytkownika którego dotyczy wydarzenie\n",
    "- id produktu którego dotyczy wydarzenie\n",
    "- typ wydarzenia\n",
    "- informacja o oferowanej zniżce\n",
    "- id dokonanego zakupu\n",
    "\n",
    "Aby wydobyć \"pełnię\" informacji odnośnie sesji, będziemy musieli uwzględnić pliki opisujące **produkty i użytkowników** w analizie danych sesji.\n",
    "\n",
    "Przypuszczalnie, nie wszystkie informacje zawarte w rekordach będą dla nas użyteczne. Dalsza analiza oceni przydatność poszczególnych atrybutów.\n",
    "\n",
    "---\n",
    "\n",
    "### Nieistotne dane\n",
    "\n",
    "Dane, których nie użyjemy w trakcie analizy, to te zawarte w pliku **deliveries.jsonl**. Plik ten zawiera rekordy opisujące zdarzenia dowozu produktu do kupującego. Zakładamy, iż dane te są nieistotne z punktu widzenia interakcji użytkownika ze sklepem internetowym."
   ]
  },
  {
   "cell_type": "code",
   "execution_count": 32,
   "metadata": {},
   "outputs": [],
   "source": [
    "import pandas as pd\n",
    "import matplotlib.pyplot as plt\n",
    "import seaborn as sns\n",
    "\n",
    "\n",
    "# Used for verbose data presentation.\n",
    "pd.set_option('display.max_rows', None)\n",
    "pd.set_option('display.max_columns', None)\n",
    "pd.set_option('max_colwidth', None)\n",
    "\n",
    "usersDataPath = './data/users.jsonl'\n",
    "productsDataPath = './data/products.jsonl'\n",
    "sessionsDataPath = './data/sessions.jsonl'\n",
    "\n",
    "usersDF = pd.read_json(usersDataPath, lines=True)\n",
    "sessionsDF = pd.read_json(sessionsDataPath, lines=True)\n",
    "productsDF = pd.read_json(productsDataPath, lines=True)"
   ]
  },
  {
   "cell_type": "markdown",
   "metadata": {},
   "source": [
    "# Analiza samodzielnych danych\n",
    "\n",
    "Teraz dokładnie przyjrzymy się danym które mogą być analizowane samodzielnie. Zbadamy typy ich atrybutów, rozkłady oraz podejmiemy pierwsze decyzje modelowania danych."
   ]
  },
  {
   "cell_type": "markdown",
   "metadata": {},
   "source": [
    "## Dane produktów\n",
    "\n",
    "Aby mieć lepsze \"poczucie\" analizowanych danych, poniżej prezentujemy 10 pierwszych rekordów obecnych w dostarczonych danych."
   ]
  },
  {
   "cell_type": "code",
   "execution_count": 33,
   "metadata": {},
   "outputs": [
    {
     "data": {
      "text/html": [
       "<div>\n",
       "<style scoped>\n",
       "    .dataframe tbody tr th:only-of-type {\n",
       "        vertical-align: middle;\n",
       "    }\n",
       "\n",
       "    .dataframe tbody tr th {\n",
       "        vertical-align: top;\n",
       "    }\n",
       "\n",
       "    .dataframe thead th {\n",
       "        text-align: right;\n",
       "    }\n",
       "</style>\n",
       "<table border=\"1\" class=\"dataframe\">\n",
       "  <thead>\n",
       "    <tr style=\"text-align: right;\">\n",
       "      <th></th>\n",
       "      <th>product_id</th>\n",
       "      <th>product_name</th>\n",
       "      <th>category_path</th>\n",
       "      <th>price</th>\n",
       "      <th>user_rating</th>\n",
       "    </tr>\n",
       "  </thead>\n",
       "  <tbody>\n",
       "    <tr>\n",
       "      <th>0</th>\n",
       "      <td>1001</td>\n",
       "      <td>Telefon Siemens Gigaset DA310</td>\n",
       "      <td>Telefony i akcesoria;Telefony stacjonarne</td>\n",
       "      <td>58.97</td>\n",
       "      <td>4.740862</td>\n",
       "    </tr>\n",
       "    <tr>\n",
       "      <th>1</th>\n",
       "      <td>1002</td>\n",
       "      <td>Kyocera FS-1135MFP</td>\n",
       "      <td>Komputery;Drukarki i skanery;Biurowe urządzenia wielofunkcyjne</td>\n",
       "      <td>2048.50</td>\n",
       "      <td>1.564504</td>\n",
       "    </tr>\n",
       "    <tr>\n",
       "      <th>2</th>\n",
       "      <td>1003</td>\n",
       "      <td>Kyocera FS-3640MFP</td>\n",
       "      <td>Komputery;Drukarki i skanery;Biurowe urządzenia wielofunkcyjne</td>\n",
       "      <td>7639.00</td>\n",
       "      <td>3.520694</td>\n",
       "    </tr>\n",
       "    <tr>\n",
       "      <th>3</th>\n",
       "      <td>1004</td>\n",
       "      <td>Fallout 3 (Xbox 360)</td>\n",
       "      <td>Gry i konsole;Gry na konsole;Gry Xbox 360</td>\n",
       "      <td>49.99</td>\n",
       "      <td>4.334193</td>\n",
       "    </tr>\n",
       "    <tr>\n",
       "      <th>4</th>\n",
       "      <td>1005</td>\n",
       "      <td>Szalone Króliki Na żywo i w kolorze (Xbox 360)</td>\n",
       "      <td>Gry i konsole;Gry na konsole;Gry Xbox 360</td>\n",
       "      <td>49.99</td>\n",
       "      <td>4.496124</td>\n",
       "    </tr>\n",
       "    <tr>\n",
       "      <th>5</th>\n",
       "      <td>1006</td>\n",
       "      <td>Call of Duty 4 Modern Warfare (Xbox 360)</td>\n",
       "      <td>Gry i konsole;Gry na konsole;Gry Xbox 360</td>\n",
       "      <td>59.90</td>\n",
       "      <td>0.405119</td>\n",
       "    </tr>\n",
       "    <tr>\n",
       "      <th>6</th>\n",
       "      <td>1007</td>\n",
       "      <td>Dead Space 3 (Xbox 360)</td>\n",
       "      <td>Gry i konsole;Gry na konsole;Gry Xbox 360</td>\n",
       "      <td>89.99</td>\n",
       "      <td>1.889997</td>\n",
       "    </tr>\n",
       "    <tr>\n",
       "      <th>7</th>\n",
       "      <td>1008</td>\n",
       "      <td>Tom Clancy&amp;#39;s Rainbow Six Vegas (Xbox 360)</td>\n",
       "      <td>Gry i konsole;Gry na konsole;Gry Xbox 360</td>\n",
       "      <td>49.99</td>\n",
       "      <td>2.097467</td>\n",
       "    </tr>\n",
       "    <tr>\n",
       "      <th>8</th>\n",
       "      <td>1009</td>\n",
       "      <td>Kinect Joy Ride (Xbox 360)</td>\n",
       "      <td>Gry i konsole;Gry na konsole;Gry Xbox 360</td>\n",
       "      <td>69.00</td>\n",
       "      <td>0.304420</td>\n",
       "    </tr>\n",
       "    <tr>\n",
       "      <th>9</th>\n",
       "      <td>1010</td>\n",
       "      <td>BioShock 2 (Xbox 360)</td>\n",
       "      <td>Gry i konsole;Gry na konsole;Gry Xbox 360</td>\n",
       "      <td>89.99</td>\n",
       "      <td>3.894822</td>\n",
       "    </tr>\n",
       "  </tbody>\n",
       "</table>\n",
       "</div>"
      ],
      "text/plain": [
       "   product_id                                    product_name  \\\n",
       "0        1001                   Telefon Siemens Gigaset DA310   \n",
       "1        1002                              Kyocera FS-1135MFP   \n",
       "2        1003                              Kyocera FS-3640MFP   \n",
       "3        1004                            Fallout 3 (Xbox 360)   \n",
       "4        1005  Szalone Króliki Na żywo i w kolorze (Xbox 360)   \n",
       "5        1006        Call of Duty 4 Modern Warfare (Xbox 360)   \n",
       "6        1007                         Dead Space 3 (Xbox 360)   \n",
       "7        1008   Tom Clancy&#39;s Rainbow Six Vegas (Xbox 360)   \n",
       "8        1009                      Kinect Joy Ride (Xbox 360)   \n",
       "9        1010                           BioShock 2 (Xbox 360)   \n",
       "\n",
       "                                                    category_path    price  \\\n",
       "0                       Telefony i akcesoria;Telefony stacjonarne    58.97   \n",
       "1  Komputery;Drukarki i skanery;Biurowe urządzenia wielofunkcyjne  2048.50   \n",
       "2  Komputery;Drukarki i skanery;Biurowe urządzenia wielofunkcyjne  7639.00   \n",
       "3                       Gry i konsole;Gry na konsole;Gry Xbox 360    49.99   \n",
       "4                       Gry i konsole;Gry na konsole;Gry Xbox 360    49.99   \n",
       "5                       Gry i konsole;Gry na konsole;Gry Xbox 360    59.90   \n",
       "6                       Gry i konsole;Gry na konsole;Gry Xbox 360    89.99   \n",
       "7                       Gry i konsole;Gry na konsole;Gry Xbox 360    49.99   \n",
       "8                       Gry i konsole;Gry na konsole;Gry Xbox 360    69.00   \n",
       "9                       Gry i konsole;Gry na konsole;Gry Xbox 360    89.99   \n",
       "\n",
       "   user_rating  \n",
       "0     4.740862  \n",
       "1     1.564504  \n",
       "2     3.520694  \n",
       "3     4.334193  \n",
       "4     4.496124  \n",
       "5     0.405119  \n",
       "6     1.889997  \n",
       "7     2.097467  \n",
       "8     0.304420  \n",
       "9     3.894822  "
      ]
     },
     "execution_count": 33,
     "metadata": {},
     "output_type": "execute_result"
    }
   ],
   "source": [
    "productsDF.head(n=10)"
   ]
  },
  {
   "cell_type": "markdown",
   "metadata": {},
   "source": [
    "Już z tych przykładowych danych możemy wyciągnąć kilka interesujących wniosków. Po pierwsze, ceny produktów mogę w sposób znaczący różnić się między sobą (58.97 kontra 7639.00). Po drugie, ocena produktu może mieć wartość poniżej 1 (przykład z 5 wiersza). Po trzecie, nazwa produktu wydaje się być zbędna w momencie posiadania jego identyfikatora (jest ona po prostu kolejnym unikatowym ciągiem znaków). Po czwarte, i to jest najabrdziej istotny wniosek, kolumna **category_path** zawiera informacją o kategorii produktu w formie \"doprecyzowywania\" tzn. kategorie rozdzielane są znakiem **;** a najistotniejsza kategoria umieszczona jest na samym początku napisu."
   ]
  },
  {
   "cell_type": "code",
   "execution_count": 34,
   "metadata": {},
   "outputs": [
    {
     "name": "stdout",
     "output_type": "stream",
     "text": [
      "<class 'pandas.core.frame.DataFrame'>\n",
      "RangeIndex: 319 entries, 0 to 318\n",
      "Data columns (total 5 columns):\n",
      " #   Column         Non-Null Count  Dtype  \n",
      "---  ------         --------------  -----  \n",
      " 0   product_id     319 non-null    int64  \n",
      " 1   product_name   319 non-null    object \n",
      " 2   category_path  319 non-null    object \n",
      " 3   price          319 non-null    float64\n",
      " 4   user_rating    319 non-null    float64\n",
      "dtypes: float64(2), int64(1), object(2)\n",
      "memory usage: 12.6+ KB\n"
     ]
    }
   ],
   "source": [
    "productsDF.info()"
   ]
  },
  {
   "cell_type": "markdown",
   "metadata": {},
   "source": [
    "Widzimy, iż dane produktów nie zawierają żadnych brakujących wartości. \n",
    "\n",
    "Dane produktów zawierają dwie kolumny o typie napisowym (product_name oraz category_path), jedną o typie całkowitym (product_id) oraz dwie o typie zmiennoprzecinkowym (price i user_rating)."
   ]
  },
  {
   "cell_type": "markdown",
   "metadata": {},
   "source": [
    "### Identyfikatory produktu\n",
    "\n",
    "W celu lepszego zaznajomienia się z danymi opisującymi identyfikator produktu dokonujemy dalszej analizy kolumny **product_id**."
   ]
  },
  {
   "cell_type": "code",
   "execution_count": 35,
   "metadata": {},
   "outputs": [
    {
     "name": "stdout",
     "output_type": "stream",
     "text": [
      "Max id of the product is: 1319\n",
      "Min id of the product is: 1001\n",
      "Disctinct id count is: 319\n"
     ]
    }
   ],
   "source": [
    "print('Max id of the product is: {}'.format(productsDF['product_id'].max()))\n",
    "print('Min id of the product is: {}'.format(productsDF['product_id'].min()))\n",
    "print('Disctinct id count is: {}'.format(productsDF['product_id'].nunique()))"
   ]
  },
  {
   "cell_type": "markdown",
   "metadata": {},
   "source": [
    "Jak widzimy, minimalnym identyfikatorem produktu jest wartość **1001** a maksymalnym wartość **1319**. Ponadto wszystkie wartości pomiędzy **1001 a 1319** są osiągane dokładnie 1 raz."
   ]
  },
  {
   "cell_type": "markdown",
   "metadata": {},
   "source": [
    "### Nazwy produktu\n",
    "\n",
    "Następnie analizie poddamy kolumnę opisującą nazwę produktu **product_name**."
   ]
  },
  {
   "cell_type": "code",
   "execution_count": 36,
   "metadata": {},
   "outputs": [
    {
     "name": "stdout",
     "output_type": "stream",
     "text": [
      "Distinct name count is: 319\n"
     ]
    }
   ],
   "source": [
    "print('Distinct name count is: {}'.format(productsDF['product_name'].nunique()))"
   ]
  },
  {
   "cell_type": "markdown",
   "metadata": {},
   "source": [
    "Widzimy, iż w naszych danych nie występują produkty o tych samych nazwach."
   ]
  },
  {
   "cell_type": "markdown",
   "metadata": {},
   "source": [
    "### Scieżka kategorii\n",
    "\n",
    "Teraz analizie poddamy kolumnę opisującą scieżkę kategorii produktu **category_path**. W tym celu przyjrzymy się dostępnym ścieżkom kategorii oraz liczności każdej z nich tzn. ile produktów należy do danej ścieżki."
   ]
  },
  {
   "cell_type": "code",
   "execution_count": 37,
   "metadata": {},
   "outputs": [
    {
     "name": "stdout",
     "output_type": "stream",
     "text": [
      "                                    Gry i konsole;Gry komputerowe\n",
      "                    Gry i konsole;Gry na konsole;Gry PlayStation3\n",
      "                        Gry i konsole;Gry na konsole;Gry Xbox 360\n",
      "   Komputery;Drukarki i skanery;Biurowe urządzenia wielofunkcyjne\n",
      "                                  Komputery;Monitory;Monitory LCD\n",
      "                            Komputery;Tablety i akcesoria;Tablety\n",
      "                                       Sprzęt RTV;Audio;Słuchawki\n",
      "         Sprzęt RTV;Przenośne audio i video;Odtwarzacze mp3 i mp4\n",
      "                                 Sprzęt RTV;Video;Odtwarzacze DVD\n",
      "               Sprzęt RTV;Video;Telewizory i akcesoria;Anteny RTV\n",
      "               Sprzęt RTV;Video;Telewizory i akcesoria;Okulary 3D\n",
      "Telefony i akcesoria;Akcesoria telefoniczne;Zestawy głośnomówiące\n",
      "  Telefony i akcesoria;Akcesoria telefoniczne;Zestawy słuchawkowe\n",
      "                          Telefony i akcesoria;Telefony komórkowe\n",
      "                        Telefony i akcesoria;Telefony stacjonarne\n"
     ]
    }
   ],
   "source": [
    "print(productsDF['category_path'].drop_duplicates().reset_index(drop=True).sort_values().to_string(index=False))"
   ]
  },
  {
   "cell_type": "markdown",
   "metadata": {},
   "source": [
    "Zauważamy, że ścieżki kategorii tworzą hierarchię. Każda kategoria ma swój korzeń, który jest rozwijany poprzez ewentualne dopisywanie nowych podkategorii."
   ]
  },
  {
   "cell_type": "code",
   "execution_count": 38,
   "metadata": {},
   "outputs": [
    {
     "data": {
      "text/plain": [
       "category_path\n",
       "Gry i konsole;Gry komputerowe                                        202\n",
       "Gry i konsole;Gry na konsole;Gry Xbox 360                             32\n",
       "Sprzęt RTV;Video;Telewizory i akcesoria;Anteny RTV                    30\n",
       "Komputery;Monitory;Monitory LCD                                       17\n",
       "Gry i konsole;Gry na konsole;Gry PlayStation3                          9\n",
       "Komputery;Drukarki i skanery;Biurowe urządzenia wielofunkcyjne         9\n",
       "Telefony i akcesoria;Akcesoria telefoniczne;Zestawy głośnomówiące      5\n",
       "Telefony i akcesoria;Akcesoria telefoniczne;Zestawy słuchawkowe        4\n",
       "Komputery;Tablety i akcesoria;Tablety                                  2\n",
       "Sprzęt RTV;Przenośne audio i video;Odtwarzacze mp3 i mp4               2\n",
       "Sprzęt RTV;Video;Odtwarzacze DVD                                       2\n",
       "Telefony i akcesoria;Telefony komórkowe                                2\n",
       "Sprzęt RTV;Audio;Słuchawki                                             1\n",
       "Sprzęt RTV;Video;Telewizory i akcesoria;Okulary 3D                     1\n",
       "Telefony i akcesoria;Telefony stacjonarne                              1\n",
       "Name: product_id, dtype: int64"
      ]
     },
     "execution_count": 38,
     "metadata": {},
     "output_type": "execute_result"
    }
   ],
   "source": [
    "productsDF.groupby('category_path')['product_id'].count().sort_values(ascending=False)"
   ]
  },
  {
   "cell_type": "markdown",
   "metadata": {},
   "source": [
    "Powyższy wynik ukazuje nam, że liczba produktów w kategoriach nie jest rozłożona w sposób równomierny. Niektóre kategorie posiadają jedynie jeden zakwalifikowany produkt, podczas gdy inne zawierają ich aż kilkadziesiąt lub kilkaset. Proponowanym rozwiązaniem będzie zmieniejszenie liczby dostępnych kategorii poprzez rzutowanie danych na odpowiedni korzeń hierarchi kategorii. \n",
    "\n",
    "Poprzez rzutowanie moglibyśmy otrzymać następujące wyniki:\n",
    "- \"Gry komputerowe\": 202\n",
    "- \"Gry na konsole\": 41 (Xbox and PS3)\n",
    "- \"Sprzęt RTV\": 36\n",
    "- \"Komputery\": 28\n",
    "- \"Telefony i akcesoria\": 12\n",
    "\n",
    "Liczba i liczność wytworzonych kategorii wydaje się być zadowalająca na ten moment."
   ]
  },
  {
   "cell_type": "code",
   "execution_count": 39,
   "metadata": {},
   "outputs": [
    {
     "name": "stdout",
     "output_type": "stream",
     "text": [
      "Gry komputerowe         202\n",
      "Gry na konsole           41\n",
      "Sprzęt RTV               36\n",
      "Komputery                28\n",
      "Telefony i akcesoria     12\n",
      "Name: category_path, dtype: int64\n"
     ]
    }
   ],
   "source": [
    "separator = ';'\n",
    "newGroups = ['Gry komputerowe', 'Gry na konsole', 'Sprzęt RTV', 'Komputery', 'Telefony i akcesoria']\n",
    "\n",
    "def castCategoryPath(categoryPath):\n",
    "    categories = categoryPath.split(separator)\n",
    "    foundGroups = [group for group in newGroups if group in categories]\n",
    "    if len(foundGroups) != 1:\n",
    "        raise RuntimeError('wrong group cast: {}'.format(foundGroups))\n",
    "    return foundGroups[0]\n",
    "\n",
    "transformed = productsDF['category_path'].apply(castCategoryPath)\n",
    "print(transformed.value_counts())"
   ]
  },
  {
   "cell_type": "markdown",
   "metadata": {},
   "source": [
    "### Cena produktu\n",
    "\n",
    "Poniżej przedstawiamy histogram prezentujący rozkład wartości cen zawartych w kolumnie **price**."
   ]
  },
  {
   "cell_type": "code",
   "execution_count": 40,
   "metadata": {},
   "outputs": [
    {
     "name": "stdout",
     "output_type": "stream",
     "text": [
      "Max price is: 7639.0\n",
      "Min price is: 1.0\n"
     ]
    },
    {
     "data": {
      "text/plain": [
       "<seaborn.axisgrid.FacetGrid at 0x1eb8f58b940>"
      ]
     },
     "execution_count": 40,
     "metadata": {},
     "output_type": "execute_result"
    },
    {
     "data": {
      "image/png": "[encoded data removed]",
      "text/plain": [
       "<Figure size 360x360 with 1 Axes>"
      ]
     },
     "metadata": {
      "needs_background": "light"
     },
     "output_type": "display_data"
    }
   ],
   "source": [
    "print('Max price is: {}'.format(productsDF['price'].max()))\n",
    "print('Min price is: {}'.format(productsDF['price'].min()))\n",
    "\n",
    "sns.displot(data=productsDF, x=\"price\", kind=\"kde\")"
   ]
  },
  {
   "cell_type": "code",
   "execution_count": 41,
   "metadata": {
    "scrolled": true
   },
   "outputs": [
    {
     "data": {
      "text/plain": [
       "<AxesSubplot:xlabel='price'>"
      ]
     },
     "execution_count": 41,
     "metadata": {},
     "output_type": "execute_result"
    },
    {
     "data": {
      "image/png": "[encoded data removed]",
      "text/plain": [
       "<Figure size 432x288 with 1 Axes>"
      ]
     },
     "metadata": {
      "needs_background": "light"
     },
     "output_type": "display_data"
    }
   ],
   "source": [
    "sns.violinplot(data=productsDF, x='price')"
   ]
  },
  {
   "cell_type": "markdown",
   "metadata": {},
   "source": [
    "Widzimy, że zdecydowana większość cen mieści się w poniżej kwoty 100. Niestety, wartości odstające zakłócają wygląd wykresów. Decydujemy się rozbić produkty na tańsze i droższe. Jak punkt podziału przyjmujemy wartość 100. "
   ]
  },
  {
   "cell_type": "code",
   "execution_count": 42,
   "metadata": {},
   "outputs": [
    {
     "name": "stdout",
     "output_type": "stream",
     "text": [
      "Cheap products amount is: 247\n",
      "Expensie products amount is: 72\n"
     ]
    },
    {
     "data": {
      "image/png": "[encoded data removed]",
      "text/plain": [
       "<Figure size 360x360 with 1 Axes>"
      ]
     },
     "metadata": {
      "needs_background": "light"
     },
     "output_type": "display_data"
    },
    {
     "data": {
      "image/png": "[encoded data removed]",
      "text/plain": [
       "<Figure size 360x360 with 1 Axes>"
      ]
     },
     "metadata": {
      "needs_background": "light"
     },
     "output_type": "display_data"
    }
   ],
   "source": [
    "threshold = 100\n",
    "\n",
    "cheapProducts = (productsDF.loc[productsDF['price'] < threshold], 'Cheap')\n",
    "expensiveProducts = (productsDF.loc[productsDF['price'] >= threshold], 'Expensie')\n",
    "\n",
    "productsSplit = [cheapProducts, expensiveProducts]\n",
    "\n",
    "for ps in productsSplit:\n",
    "    print('{} products amount is: {}'.format(ps[1], ps[0]['price'].count()))\n",
    "    sns.displot(data=ps[0], x=\"price\", kind=\"kde\")"
   ]
  },
  {
   "cell_type": "markdown",
   "metadata": {},
   "source": [
    "Jak widzimy, wartości zmiennej opisującej ceny produktu nie są rozłożone w sposób równomierny. Przypominają jednak złożenia kilku rozkładów normalnych których wartości oczekiwane i wariancje są różne. Interesujące wydają nam się również produkty z ceną 1.0. Postanawiamy przyjrzeć się rekordom z taką ceną."
   ]
  },
  {
   "cell_type": "code",
   "execution_count": 43,
   "metadata": {},
   "outputs": [
    {
     "data": {
      "text/html": [
       "<div>\n",
       "<style scoped>\n",
       "    .dataframe tbody tr th:only-of-type {\n",
       "        vertical-align: middle;\n",
       "    }\n",
       "\n",
       "    .dataframe tbody tr th {\n",
       "        vertical-align: top;\n",
       "    }\n",
       "\n",
       "    .dataframe thead th {\n",
       "        text-align: right;\n",
       "    }\n",
       "</style>\n",
       "<table border=\"1\" class=\"dataframe\">\n",
       "  <thead>\n",
       "    <tr style=\"text-align: right;\">\n",
       "      <th></th>\n",
       "      <th>product_id</th>\n",
       "      <th>product_name</th>\n",
       "      <th>category_path</th>\n",
       "      <th>price</th>\n",
       "      <th>user_rating</th>\n",
       "    </tr>\n",
       "  </thead>\n",
       "  <tbody>\n",
       "    <tr>\n",
       "      <th>140</th>\n",
       "      <td>1141</td>\n",
       "      <td>Król Futbolu Piłkarski Quiz (PC)</td>\n",
       "      <td>Gry i konsole;Gry komputerowe</td>\n",
       "      <td>1.0</td>\n",
       "      <td>3.462897</td>\n",
       "    </tr>\n",
       "    <tr>\n",
       "      <th>192</th>\n",
       "      <td>1193</td>\n",
       "      <td>Heroes Over Europe (PC)</td>\n",
       "      <td>Gry i konsole;Gry komputerowe</td>\n",
       "      <td>1.0</td>\n",
       "      <td>4.549431</td>\n",
       "    </tr>\n",
       "    <tr>\n",
       "      <th>271</th>\n",
       "      <td>1272</td>\n",
       "      <td>The Ball (PC)</td>\n",
       "      <td>Gry i konsole;Gry komputerowe</td>\n",
       "      <td>1.0</td>\n",
       "      <td>2.286441</td>\n",
       "    </tr>\n",
       "  </tbody>\n",
       "</table>\n",
       "</div>"
      ],
      "text/plain": [
       "     product_id                      product_name  \\\n",
       "140        1141  Król Futbolu Piłkarski Quiz (PC)   \n",
       "192        1193           Heroes Over Europe (PC)   \n",
       "271        1272                     The Ball (PC)   \n",
       "\n",
       "                     category_path  price  user_rating  \n",
       "140  Gry i konsole;Gry komputerowe    1.0     3.462897  \n",
       "192  Gry i konsole;Gry komputerowe    1.0     4.549431  \n",
       "271  Gry i konsole;Gry komputerowe    1.0     2.286441  "
      ]
     },
     "execution_count": 43,
     "metadata": {},
     "output_type": "execute_result"
    }
   ],
   "source": [
    "productsDF.loc[productsDF[\"price\"] == productsDF[\"price\"].min()]"
   ]
  },
  {
   "cell_type": "markdown",
   "metadata": {},
   "source": [
    "Powyższe pozycje choć zastanawiające są możliwe. W celu weryfikacji poparwności tych danych konieczne jest zapytanie przedstawiciela firmy eSzoping."
   ]
  },
  {
   "cell_type": "markdown",
   "metadata": {},
   "source": [
    "### Ocena produktu\n",
    "\n",
    "Poniżej prezentujemy wykres opisujący rozkład wartości zmiennych opisujących opinie o produkcie zawartych w kolumnie **user_rating**."
   ]
  },
  {
   "cell_type": "code",
   "execution_count": 44,
   "metadata": {},
   "outputs": [
    {
     "name": "stdout",
     "output_type": "stream",
     "text": [
      "Max rating is: 4.993596217584222\n",
      "Min rating is: 0.013904725430070002\n"
     ]
    },
    {
     "data": {
      "text/plain": [
       "<seaborn.axisgrid.FacetGrid at 0x1eb9100ed00>"
      ]
     },
     "execution_count": 44,
     "metadata": {},
     "output_type": "execute_result"
    },
    {
     "data": {
      "image/png": "[encoded data removed]",
      "text/plain": [
       "<Figure size 360x360 with 1 Axes>"
      ]
     },
     "metadata": {
      "needs_background": "light"
     },
     "output_type": "display_data"
    }
   ],
   "source": [
    "print('Max rating is: {}'.format(productsDF['user_rating'].max()))\n",
    "print('Min rating is: {}'.format(productsDF['user_rating'].min()))\n",
    "\n",
    "sns.displot(data=productsDF, x='user_rating', kind='kde')"
   ]
  },
  {
   "cell_type": "markdown",
   "metadata": {},
   "source": [
    "Jak widać, opinie o produktach rozłożone są w sposób bardziej równomierny niż ceny produktów. Ponadto, wszystkie wartości z kolumny **user_rating** zawarte są w przedziale (0,5)."
   ]
  },
  {
   "cell_type": "markdown",
   "metadata": {},
   "source": [
    "## Dane użytkowników\n",
    "\n",
    "Podobnie jak w przypadku analizy danych o produktach, przyjrzyjmy się przykładowym wpisom w dostępnych danych:"
   ]
  },
  {
   "cell_type": "code",
   "execution_count": 45,
   "metadata": {},
   "outputs": [
    {
     "data": {
      "text/html": [
       "<div>\n",
       "<style scoped>\n",
       "    .dataframe tbody tr th:only-of-type {\n",
       "        vertical-align: middle;\n",
       "    }\n",
       "\n",
       "    .dataframe tbody tr th {\n",
       "        vertical-align: top;\n",
       "    }\n",
       "\n",
       "    .dataframe thead th {\n",
       "        text-align: right;\n",
       "    }\n",
       "</style>\n",
       "<table border=\"1\" class=\"dataframe\">\n",
       "  <thead>\n",
       "    <tr style=\"text-align: right;\">\n",
       "      <th></th>\n",
       "      <th>user_id</th>\n",
       "      <th>name</th>\n",
       "      <th>city</th>\n",
       "      <th>street</th>\n",
       "    </tr>\n",
       "  </thead>\n",
       "  <tbody>\n",
       "    <tr>\n",
       "      <th>0</th>\n",
       "      <td>102</td>\n",
       "      <td>Angelika Gasik</td>\n",
       "      <td>Warszawa</td>\n",
       "      <td>al. Kamienna 87</td>\n",
       "    </tr>\n",
       "    <tr>\n",
       "      <th>1</th>\n",
       "      <td>103</td>\n",
       "      <td>Jakub Nickel</td>\n",
       "      <td>Szczecin</td>\n",
       "      <td>ul. Szpitalna 638</td>\n",
       "    </tr>\n",
       "    <tr>\n",
       "      <th>2</th>\n",
       "      <td>104</td>\n",
       "      <td>Emil Żuchowicz</td>\n",
       "      <td>Poznań</td>\n",
       "      <td>ulica Dolna 26</td>\n",
       "    </tr>\n",
       "    <tr>\n",
       "      <th>3</th>\n",
       "      <td>105</td>\n",
       "      <td>Gustaw Pośnik</td>\n",
       "      <td>Wrocław</td>\n",
       "      <td>ul. Osiedlowa 23/03</td>\n",
       "    </tr>\n",
       "    <tr>\n",
       "      <th>4</th>\n",
       "      <td>106</td>\n",
       "      <td>Sylwia Chuchla</td>\n",
       "      <td>Gdynia</td>\n",
       "      <td>aleja Krakowska 84/76</td>\n",
       "    </tr>\n",
       "    <tr>\n",
       "      <th>5</th>\n",
       "      <td>107</td>\n",
       "      <td>Grzegorz Machoń</td>\n",
       "      <td>Kraków</td>\n",
       "      <td>aleja Olchowa 28/90</td>\n",
       "    </tr>\n",
       "    <tr>\n",
       "      <th>6</th>\n",
       "      <td>108</td>\n",
       "      <td>Artur Doktor</td>\n",
       "      <td>Szczecin</td>\n",
       "      <td>pl. Handlowa 69/04</td>\n",
       "    </tr>\n",
       "    <tr>\n",
       "      <th>7</th>\n",
       "      <td>109</td>\n",
       "      <td>Nikodem Pyć</td>\n",
       "      <td>Radom</td>\n",
       "      <td>pl. Wojska Polskiego 404</td>\n",
       "    </tr>\n",
       "    <tr>\n",
       "      <th>8</th>\n",
       "      <td>110</td>\n",
       "      <td>Krystian Lesner</td>\n",
       "      <td>Szczecin</td>\n",
       "      <td>pl. Liliowa 708</td>\n",
       "    </tr>\n",
       "    <tr>\n",
       "      <th>9</th>\n",
       "      <td>111</td>\n",
       "      <td>Klara Szumiec</td>\n",
       "      <td>Gdynia</td>\n",
       "      <td>aleja Grabowa 92</td>\n",
       "    </tr>\n",
       "  </tbody>\n",
       "</table>\n",
       "</div>"
      ],
      "text/plain": [
       "   user_id             name      city                    street\n",
       "0      102   Angelika Gasik  Warszawa           al. Kamienna 87\n",
       "1      103     Jakub Nickel  Szczecin         ul. Szpitalna 638\n",
       "2      104   Emil Żuchowicz    Poznań            ulica Dolna 26\n",
       "3      105    Gustaw Pośnik   Wrocław       ul. Osiedlowa 23/03\n",
       "4      106   Sylwia Chuchla    Gdynia     aleja Krakowska 84/76\n",
       "5      107  Grzegorz Machoń    Kraków       aleja Olchowa 28/90\n",
       "6      108     Artur Doktor  Szczecin        pl. Handlowa 69/04\n",
       "7      109      Nikodem Pyć     Radom  pl. Wojska Polskiego 404\n",
       "8      110  Krystian Lesner  Szczecin           pl. Liliowa 708\n",
       "9      111    Klara Szumiec    Gdynia          aleja Grabowa 92"
      ]
     },
     "execution_count": 45,
     "metadata": {},
     "output_type": "execute_result"
    }
   ],
   "source": [
    "usersDF.head(n=10)"
   ]
  },
  {
   "cell_type": "markdown",
   "metadata": {},
   "source": [
    "Widzimy, że praktycznie wszystkie kolumny posiadają typ napisowy (**name, city, street**). Ponadto, kolumna **street** w rzeczywistości zawiera adres użykownika, a nie ulicę na której mieszka. Pozostałe kolumny wydają się być standardowe w kontekście zawieranych danych."
   ]
  },
  {
   "cell_type": "code",
   "execution_count": 46,
   "metadata": {},
   "outputs": [
    {
     "name": "stdout",
     "output_type": "stream",
     "text": [
      "<class 'pandas.core.frame.DataFrame'>\n",
      "RangeIndex: 200 entries, 0 to 199\n",
      "Data columns (total 4 columns):\n",
      " #   Column   Non-Null Count  Dtype \n",
      "---  ------   --------------  ----- \n",
      " 0   user_id  200 non-null    int64 \n",
      " 1   name     200 non-null    object\n",
      " 2   city     200 non-null    object\n",
      " 3   street   200 non-null    object\n",
      "dtypes: int64(1), object(3)\n",
      "memory usage: 6.4+ KB\n"
     ]
    }
   ],
   "source": [
    "usersDF.info()"
   ]
  },
  {
   "cell_type": "markdown",
   "metadata": {},
   "source": [
    "Widzimy, że dane użytkowników nie zawierają żadnych brakujących wartości. Wszystkie wpisy są kompletne."
   ]
  },
  {
   "cell_type": "markdown",
   "metadata": {},
   "source": [
    "### Identyfikator użytkownika\n",
    "\n",
    "Teraz przyjrzymy się wartościom zawartym w kolumnie **user_id**. Interesuje nas, czy wszystkie wartości są unikalne. Ponadto dobrze byłoby znać zakres identyfikatorów, oraz czy jest on w pełni zapełniony."
   ]
  },
  {
   "cell_type": "code",
   "execution_count": 47,
   "metadata": {},
   "outputs": [
    {
     "name": "stdout",
     "output_type": "stream",
     "text": [
      "Max user id is: 301\n",
      "Min user id is: 102\n",
      "Unique identifiers number is: 200\n"
     ]
    }
   ],
   "source": [
    "print('Max user id is: {}'.format(usersDF['user_id'].max()))\n",
    "print('Min user id is: {}'.format(usersDF['user_id'].min()))\n",
    "print('Unique identifiers number is: {}'.format(usersDF['user_id'].nunique()))"
   ]
  },
  {
   "cell_type": "markdown",
   "metadata": {},
   "source": [
    "Z powyższych wyników wnioskujemy, że zakres identyfikatorów wynosi [102, 301] Ponadto, każda wartość w tym zakresie przyjmowana jest dokładnie jeden raz."
   ]
  },
  {
   "cell_type": "markdown",
   "metadata": {},
   "source": [
    "### Imię użytkownika\n",
    "\n",
    "Następną kolumną, jaką poddamy dalszej analizie, jest ta zawierająca informacje o imieniu użytkownika. Jesteśmy zainteresowani, czy w dostępnych danych istnieje duplikacja użytkownika (różne identyfikatory ale to samo imię i nazwisko)."
   ]
  },
  {
   "cell_type": "code",
   "execution_count": 48,
   "metadata": {},
   "outputs": [
    {
     "name": "stdout",
     "output_type": "stream",
     "text": [
      "Unique name count is: 200\n"
     ]
    }
   ],
   "source": [
    "print('Unique name count is: {}'.format(usersDF['name'].nunique()))"
   ]
  },
  {
   "cell_type": "markdown",
   "metadata": {},
   "source": [
    "Jak widać, wszystkie imiona użytkowników są unikatowe. Dzięki temu, jesteśmy w stanie stwierdzić, że w zbiorze danych nie występują potencjalne anomalie. Poza tym zakładamy, że kolumna o nazwie **name** nie wnosi żadnych nowych informacji do modelu i rozwiązywanego zagadnienia. "
   ]
  },
  {
   "cell_type": "markdown",
   "metadata": {},
   "source": [
    "### Miasto zamieszkania\n",
    "\n",
    "Kolumna zawierająca miasto zamieszkania użytkownika (zakładamy, że jest to miejsce zamieszkania, jednak nie mamy tutaj żadnej pewności co do tego) wydaje się nieść potencjalnie wiele przydatnych informacji. Przede wszystkim dzięki niej jesteśmy w stanie stwierdzić, czy zbiór użytkowników na których operujemy, jest reprezentatywny. Ponadto potencjalnie może zachodzić korelacja pomiędzy miastem zamieszkania a zainteresowaniem pewnymi produktami przez użytkowników. Poniżej prezentujemy histogram z uzyskanymi wynikami."
   ]
  },
  {
   "cell_type": "code",
   "execution_count": 49,
   "metadata": {},
   "outputs": [
    {
     "data": {
      "text/plain": [
       "<seaborn.axisgrid.FacetGrid at 0x1eb903bc250>"
      ]
     },
     "execution_count": 49,
     "metadata": {},
     "output_type": "execute_result"
    },
    {
     "data": {
      "image/png": "[encoded data removed]",
      "text/plain": [
       "<Figure size 576x576 with 1 Axes>"
      ]
     },
     "metadata": {
      "needs_background": "light"
     },
     "output_type": "display_data"
    }
   ],
   "source": [
    "sns.catplot(data=usersDF, kind='count', x='city', height=8)"
   ]
  },
  {
   "cell_type": "markdown",
   "metadata": {},
   "source": [
    "Z powyższego histogramu widzimy, iż pomimo pewnych nieregularności, dane są rozłożone dość równomiernie. Dzięki temu, jesteśmy w stanie stwierdzić, że dane na których pracujemy, są reprezentatywne"
   ]
  },
  {
   "cell_type": "markdown",
   "metadata": {},
   "source": [
    "### Adres zamieszkania\n",
    "\n",
    "Ostatnią kolumną do przeanalizowania jest ta zawierająca dane o adresach zamieszkania użytkowników. Zakładamy, iż prawdopodobnie kolumna to nie będzie dla nas w żaden sposób informatywna. Tym nie mniej, jesteśmy zainteresowani, czy w danych nie występuje duplikacja adresu."
   ]
  },
  {
   "cell_type": "code",
   "execution_count": 50,
   "metadata": {},
   "outputs": [
    {
     "name": "stdout",
     "output_type": "stream",
     "text": [
      "Unique address count is: 200\n"
     ]
    }
   ],
   "source": [
    "print('Unique address count is: {}'.format(usersDF['street'].nunique()))"
   ]
  },
  {
   "cell_type": "markdown",
   "metadata": {},
   "source": [
    "Jak widać, wszystkie adresu są unikatowe."
   ]
  },
  {
   "cell_type": "markdown",
   "metadata": {},
   "source": [
    "## Dane sesji\n",
    "\n",
    "Przyjrzyjmy się nieco bliżej danym sesji."
   ]
  },
  {
   "cell_type": "code",
   "execution_count": 51,
   "metadata": {},
   "outputs": [
    {
     "data": {
      "text/html": [
       "<div>\n",
       "<style scoped>\n",
       "    .dataframe tbody tr th:only-of-type {\n",
       "        vertical-align: middle;\n",
       "    }\n",
       "\n",
       "    .dataframe tbody tr th {\n",
       "        vertical-align: top;\n",
       "    }\n",
       "\n",
       "    .dataframe thead th {\n",
       "        text-align: right;\n",
       "    }\n",
       "</style>\n",
       "<table border=\"1\" class=\"dataframe\">\n",
       "  <thead>\n",
       "    <tr style=\"text-align: right;\">\n",
       "      <th></th>\n",
       "      <th>session_id</th>\n",
       "      <th>timestamp</th>\n",
       "      <th>user_id</th>\n",
       "      <th>product_id</th>\n",
       "      <th>event_type</th>\n",
       "      <th>offered_discount</th>\n",
       "      <th>purchase_id</th>\n",
       "    </tr>\n",
       "  </thead>\n",
       "  <tbody>\n",
       "    <tr>\n",
       "      <th>0</th>\n",
       "      <td>124</td>\n",
       "      <td>2021-05-13 06:07:09</td>\n",
       "      <td>102</td>\n",
       "      <td>1317</td>\n",
       "      <td>VIEW_PRODUCT</td>\n",
       "      <td>0</td>\n",
       "      <td>NaN</td>\n",
       "    </tr>\n",
       "    <tr>\n",
       "      <th>1</th>\n",
       "      <td>125</td>\n",
       "      <td>2021-09-11 01:25:08</td>\n",
       "      <td>102</td>\n",
       "      <td>1170</td>\n",
       "      <td>VIEW_PRODUCT</td>\n",
       "      <td>0</td>\n",
       "      <td>NaN</td>\n",
       "    </tr>\n",
       "    <tr>\n",
       "      <th>2</th>\n",
       "      <td>125</td>\n",
       "      <td>2021-09-11 01:29:38</td>\n",
       "      <td>102</td>\n",
       "      <td>1055</td>\n",
       "      <td>VIEW_PRODUCT</td>\n",
       "      <td>0</td>\n",
       "      <td>NaN</td>\n",
       "    </tr>\n",
       "    <tr>\n",
       "      <th>3</th>\n",
       "      <td>125</td>\n",
       "      <td>2021-09-11 01:30:44</td>\n",
       "      <td>102</td>\n",
       "      <td>1053</td>\n",
       "      <td>VIEW_PRODUCT</td>\n",
       "      <td>0</td>\n",
       "      <td>NaN</td>\n",
       "    </tr>\n",
       "    <tr>\n",
       "      <th>4</th>\n",
       "      <td>125</td>\n",
       "      <td>2021-09-11 01:33:50</td>\n",
       "      <td>102</td>\n",
       "      <td>1060</td>\n",
       "      <td>VIEW_PRODUCT</td>\n",
       "      <td>0</td>\n",
       "      <td>NaN</td>\n",
       "    </tr>\n",
       "    <tr>\n",
       "      <th>5</th>\n",
       "      <td>125</td>\n",
       "      <td>2021-09-11 01:38:20</td>\n",
       "      <td>102</td>\n",
       "      <td>1048</td>\n",
       "      <td>VIEW_PRODUCT</td>\n",
       "      <td>0</td>\n",
       "      <td>NaN</td>\n",
       "    </tr>\n",
       "    <tr>\n",
       "      <th>6</th>\n",
       "      <td>125</td>\n",
       "      <td>2021-09-11 01:39:58</td>\n",
       "      <td>102</td>\n",
       "      <td>1011</td>\n",
       "      <td>VIEW_PRODUCT</td>\n",
       "      <td>0</td>\n",
       "      <td>NaN</td>\n",
       "    </tr>\n",
       "    <tr>\n",
       "      <th>7</th>\n",
       "      <td>125</td>\n",
       "      <td>2021-09-11 01:44:10</td>\n",
       "      <td>102</td>\n",
       "      <td>1098</td>\n",
       "      <td>VIEW_PRODUCT</td>\n",
       "      <td>0</td>\n",
       "      <td>NaN</td>\n",
       "    </tr>\n",
       "    <tr>\n",
       "      <th>8</th>\n",
       "      <td>125</td>\n",
       "      <td>2021-09-11 01:47:32</td>\n",
       "      <td>102</td>\n",
       "      <td>1055</td>\n",
       "      <td>VIEW_PRODUCT</td>\n",
       "      <td>0</td>\n",
       "      <td>NaN</td>\n",
       "    </tr>\n",
       "    <tr>\n",
       "      <th>9</th>\n",
       "      <td>125</td>\n",
       "      <td>2021-09-11 01:52:05</td>\n",
       "      <td>102</td>\n",
       "      <td>1053</td>\n",
       "      <td>VIEW_PRODUCT</td>\n",
       "      <td>0</td>\n",
       "      <td>NaN</td>\n",
       "    </tr>\n",
       "  </tbody>\n",
       "</table>\n",
       "</div>"
      ],
      "text/plain": [
       "   session_id           timestamp  user_id  product_id    event_type  \\\n",
       "0         124 2021-05-13 06:07:09      102        1317  VIEW_PRODUCT   \n",
       "1         125 2021-09-11 01:25:08      102        1170  VIEW_PRODUCT   \n",
       "2         125 2021-09-11 01:29:38      102        1055  VIEW_PRODUCT   \n",
       "3         125 2021-09-11 01:30:44      102        1053  VIEW_PRODUCT   \n",
       "4         125 2021-09-11 01:33:50      102        1060  VIEW_PRODUCT   \n",
       "5         125 2021-09-11 01:38:20      102        1048  VIEW_PRODUCT   \n",
       "6         125 2021-09-11 01:39:58      102        1011  VIEW_PRODUCT   \n",
       "7         125 2021-09-11 01:44:10      102        1098  VIEW_PRODUCT   \n",
       "8         125 2021-09-11 01:47:32      102        1055  VIEW_PRODUCT   \n",
       "9         125 2021-09-11 01:52:05      102        1053  VIEW_PRODUCT   \n",
       "\n",
       "   offered_discount  purchase_id  \n",
       "0                 0          NaN  \n",
       "1                 0          NaN  \n",
       "2                 0          NaN  \n",
       "3                 0          NaN  \n",
       "4                 0          NaN  \n",
       "5                 0          NaN  \n",
       "6                 0          NaN  \n",
       "7                 0          NaN  \n",
       "8                 0          NaN  \n",
       "9                 0          NaN  "
      ]
     },
     "execution_count": 51,
     "metadata": {},
     "output_type": "execute_result"
    }
   ],
   "source": [
    "sessionsDF.head(10)"
   ]
  },
  {
   "cell_type": "markdown",
   "metadata": {},
   "source": [
    "Widzimy, że dane sesji nie zawierają bezpośrednio informacji o użytkownikach  i produktach, a jedynie ich unikalne identyfikatory. Stwierdzamy, iż w celu dokonania lepszej analizy powinniśmy dołączyć do danych sesji odpowiadające dane z tabeli o użytkownikach i produktach.\n",
    "\n",
    "W tej sekcji postanowiliśmy odpowiedzieć sobie na kilka pytań istotnych z punktu widzenia zadania:\n",
    "- Czy istnieje użytkownik nie posiadający żadnej sesji?\n",
    "- Czy istnieje produkt, który nie został przez nikogo wyświetlony?\n",
    "- Czy dane użytkowników i produktów są pełne, tj. czy w danych sesji jest produkt bądź użytkownik, który nie widnieje w innych dostarczonych danych.\n",
    "\n",
    "Przy łączeniu danych wykorzystaliśmy **outer join** by wszelkie braki w danych były proste do wychwycenia."
   ]
  },
  {
   "cell_type": "code",
   "execution_count": 52,
   "metadata": {},
   "outputs": [
    {
     "name": "stdout",
     "output_type": "stream",
     "text": [
      "True\n",
      "<class 'pandas.core.frame.DataFrame'>\n",
      "Int64Index: 125146 entries, 0 to 125145\n",
      "Data columns (total 14 columns):\n",
      " #   Column            Non-Null Count   Dtype         \n",
      "---  ------            --------------   -----         \n",
      " 0   session_id        125146 non-null  int64         \n",
      " 1   timestamp         125146 non-null  datetime64[ns]\n",
      " 2   user_id           125146 non-null  int64         \n",
      " 3   product_id        125146 non-null  int64         \n",
      " 4   event_type        125146 non-null  object        \n",
      " 5   offered_discount  125146 non-null  int64         \n",
      " 6   purchase_id       10893 non-null   float64       \n",
      " 7   name              125146 non-null  object        \n",
      " 8   city              125146 non-null  object        \n",
      " 9   street            125146 non-null  object        \n",
      " 10  product_name      125146 non-null  object        \n",
      " 11  category_path     125146 non-null  object        \n",
      " 12  price             125146 non-null  float64       \n",
      " 13  user_rating       125146 non-null  float64       \n",
      "dtypes: datetime64[ns](1), float64(3), int64(4), object(6)\n",
      "memory usage: 14.3+ MB\n"
     ]
    }
   ],
   "source": [
    "# Use outer join in order to keep all values from data frames.\n",
    "mergedDF = pd.merge(sessionsDF, usersDF, how='outer', on='user_id')\n",
    "mergedDF = pd.merge(mergedDF, productsDF, how='outer', on='product_id')\n",
    "\n",
    "print(sessionsDF.shape[0] == mergedDF.shape[0])\n",
    "mergedDF.info()"
   ]
  },
  {
   "cell_type": "markdown",
   "metadata": {},
   "source": [
    "Stwierdzamy, iż dane nie zawierają anomali (brak nieznanych użytkowników i produktów).\n",
    "Dodatkowo obserwujemy, że użytkownicy częściej przeglądają produkty, niż je kupują. Stosunek obu rodzajów aktywności wynosi 114253:10893."
   ]
  },
  {
   "cell_type": "markdown",
   "metadata": {},
   "source": [
    "Obszary którym przyjrzymy się nieco dokładniej w dalszej części:\n",
    "- session_id - stwierdzenie liczby unikalnych sesji, sprawdzenie czy nie występują błędne dane (np. ujemne identyfikatory)\n",
    "- timestamp - sprawdzenie przedziału czasu z jakiego pochodzą dane\n",
    "- analiza danych sesji - jakie są najpopularniejsze kategorie, produkty itp.\n",
    "- gęstość macierzy interakcji"
   ]
  },
  {
   "cell_type": "markdown",
   "metadata": {},
   "source": [
    "### ID sesji\n",
    "Poszukujemy błędów w atrybucie **session_id**, takich jak wartości ujemne czy duplikacja."
   ]
  },
  {
   "cell_type": "code",
   "execution_count": 53,
   "metadata": {},
   "outputs": [
    {
     "name": "stdout",
     "output_type": "stream",
     "text": [
      "Minimum session id: 124\n",
      "Maximum session id: 21382\n",
      "Number of unique sessions: 21259\n"
     ]
    }
   ],
   "source": [
    "print(f\"Minimum session id: {sessionsDF['session_id'].min()}\")\n",
    "print(f\"Maximum session id: {sessionsDF['session_id'].max()}\")\n",
    "print(f\"Number of unique sessions: {sessionsDF['session_id'].nunique()}\")"
   ]
  },
  {
   "cell_type": "markdown",
   "metadata": {},
   "source": [
    "Wartości w kolumnie **session_id** są poprawne. Liczba 21259 unikalnych sesji jest również pokaźnym zbiorem danych. "
   ]
  },
  {
   "cell_type": "markdown",
   "metadata": {},
   "source": [
    "### Sprawdzenie przedziału czasowego\n",
    "\n",
    "Dla naszego problemu istotne jest sprawdzenie czy dane pochodzą z odpowiednio długiego okresu. Uważamy, że minimalny przedział pokryty przez dane powinien wynosić 1 rok. Dodatkowo, zweryfikujemy czy okres pokryty jest w całości (tzn. czy nie występują okresy z brakiem danych)."
   ]
  },
  {
   "cell_type": "code",
   "execution_count": 54,
   "metadata": {},
   "outputs": [
    {
     "name": "stdout",
     "output_type": "stream",
     "text": [
      "Days count in data: 300\n",
      "first date:             session_id  user_id  product_id  event_type  offered_discount  \\\n",
      "timestamp                                                                   \n",
      "2021-01-01         431      431         431         431               431   \n",
      "\n",
      "            purchase_id  \n",
      "timestamp                \n",
      "2021-01-01           36  \n",
      "last date:             session_id  user_id  product_id  event_type  offered_discount  \\\n",
      "timestamp                                                                   \n",
      "2021-10-27         304      304         304         304               304   \n",
      "\n",
      "            purchase_id  \n",
      "timestamp                \n",
      "2021-10-27           23  \n"
     ]
    }
   ],
   "source": [
    "byDaySessionsDF = sessionsDF.groupby(pd.Grouper(key='timestamp', axis=0, freq='1D', sort=True))\n",
    "print(f\"Days count in data: {byDaySessionsDF.size().count()}\")\n",
    "print(f\"first date: {byDaySessionsDF.count().head(1)}\\nlast date: {byDaySessionsDF.count().tail(1)}\")"
   ]
  },
  {
   "cell_type": "markdown",
   "metadata": {},
   "source": [
    "Dane pochodzą z 10 miesięcy, a dokładnie z okresu od **01.01.2021 do 27.10.2021**, w danych nie występują przerwy. Oznacza to, że dane nie pokrywają okresu świątecznego, który jest istotnym czasem z punkty widzenia modelowania na potrzeby sklepu internetowego.  \n",
    "\n",
    "Zamierzamy skontaktować się z reprezentantem firmy eSzoping w celu pozyskania zbioru danych z brakującego przedziału czasowego."
   ]
  },
  {
   "cell_type": "markdown",
   "metadata": {},
   "source": [
    "### Popularność produktów i kategorii\n",
    "\n",
    "Poniżej sprawdzamy jak często każdy z produktów występuję w danych. Można rozumieć to jako analizę \"popularności\" produktów w sklepie."
   ]
  },
  {
   "cell_type": "code",
   "execution_count": 55,
   "metadata": {},
   "outputs": [
    {
     "data": {
      "text/plain": [
       "<seaborn.axisgrid.FacetGrid at 0x1ebfeee2b50>"
      ]
     },
     "execution_count": 55,
     "metadata": {},
     "output_type": "execute_result"
    },
    {
     "data": {
      "image/png": "[encoded data removed]",
      "text/plain": [
       "<Figure size 576x576 with 1 Axes>"
      ]
     },
     "metadata": {
      "needs_background": "light"
     },
     "output_type": "display_data"
    }
   ],
   "source": [
    "sns.catplot(data=sessionsDF, kind='count', x='product_id', height=8)"
   ]
  },
  {
   "cell_type": "markdown",
   "metadata": {},
   "source": [
    "Jak widać, w częstości interakcji z produktami istnieje duża dysproporcja. Widzimy, że jedynie niewielki odsetek produktów przyciąga znaczną uwagę użytkowników, podczas gdy większość produktów nie budzi większego zainteresowanie.\n",
    "\n",
    "Co istotne, każdy z produktów został obejrzany przez choć jednego użytkownika. Minimalna liczba interakcji wynosi 52.  \n",
    "\n",
    "Zainteresowało nas, jakie dokładnie produkty są najpopularniejsze i do jakich kategorii należą. Za poziom odcięcia przyjęliśmy 95 percentyl."
   ]
  },
  {
   "cell_type": "code",
   "execution_count": 56,
   "metadata": {},
   "outputs": [
    {
     "name": "stdout",
     "output_type": "stream",
     "text": [
      "count    16.000000\n",
      "mean      2.909632\n",
      "max       4.877668\n",
      "min       0.131420\n",
      "Name: user_rating, dtype: float64\n"
     ]
    },
    {
     "data": {
      "text/html": [
       "<div>\n",
       "<style scoped>\n",
       "    .dataframe tbody tr th:only-of-type {\n",
       "        vertical-align: middle;\n",
       "    }\n",
       "\n",
       "    .dataframe tbody tr th {\n",
       "        vertical-align: top;\n",
       "    }\n",
       "\n",
       "    .dataframe thead th {\n",
       "        text-align: right;\n",
       "    }\n",
       "</style>\n",
       "<table border=\"1\" class=\"dataframe\">\n",
       "  <thead>\n",
       "    <tr style=\"text-align: right;\">\n",
       "      <th></th>\n",
       "      <th>product_id</th>\n",
       "      <th>product_name</th>\n",
       "      <th>category_path</th>\n",
       "      <th>price</th>\n",
       "      <th>user_rating</th>\n",
       "    </tr>\n",
       "  </thead>\n",
       "  <tbody>\n",
       "    <tr>\n",
       "      <th>10</th>\n",
       "      <td>1011</td>\n",
       "      <td>BioShock Infinite (Xbox 360)</td>\n",
       "      <td>Gry i konsole;Gry na konsole;Gry Xbox 360</td>\n",
       "      <td>139.99</td>\n",
       "      <td>4.429294</td>\n",
       "    </tr>\n",
       "    <tr>\n",
       "      <th>47</th>\n",
       "      <td>1048</td>\n",
       "      <td>Gra o tron (PC)</td>\n",
       "      <td>Gry i konsole;Gry komputerowe</td>\n",
       "      <td>63.49</td>\n",
       "      <td>0.131420</td>\n",
       "    </tr>\n",
       "    <tr>\n",
       "      <th>48</th>\n",
       "      <td>1049</td>\n",
       "      <td>Max Payne 3 (PC)</td>\n",
       "      <td>Gry i konsole;Gry komputerowe</td>\n",
       "      <td>17.90</td>\n",
       "      <td>0.769084</td>\n",
       "    </tr>\n",
       "    <tr>\n",
       "      <th>50</th>\n",
       "      <td>1051</td>\n",
       "      <td>Spec Ops The Line (PC)</td>\n",
       "      <td>Gry i konsole;Gry komputerowe</td>\n",
       "      <td>76.90</td>\n",
       "      <td>4.424979</td>\n",
       "    </tr>\n",
       "    <tr>\n",
       "      <th>51</th>\n",
       "      <td>1052</td>\n",
       "      <td>Duke Nukem Forever (PC)</td>\n",
       "      <td>Gry i konsole;Gry komputerowe</td>\n",
       "      <td>78.90</td>\n",
       "      <td>0.684426</td>\n",
       "    </tr>\n",
       "    <tr>\n",
       "      <th>52</th>\n",
       "      <td>1053</td>\n",
       "      <td>Anno 2070 (PC)</td>\n",
       "      <td>Gry i konsole;Gry komputerowe</td>\n",
       "      <td>42.90</td>\n",
       "      <td>3.553721</td>\n",
       "    </tr>\n",
       "    <tr>\n",
       "      <th>53</th>\n",
       "      <td>1054</td>\n",
       "      <td>Call of Duty 2 (PC)</td>\n",
       "      <td>Gry i konsole;Gry komputerowe</td>\n",
       "      <td>32.99</td>\n",
       "      <td>2.468547</td>\n",
       "    </tr>\n",
       "    <tr>\n",
       "      <th>54</th>\n",
       "      <td>1055</td>\n",
       "      <td>Call of Duty Modern Warfare 3 (PC)</td>\n",
       "      <td>Gry i konsole;Gry komputerowe</td>\n",
       "      <td>32.99</td>\n",
       "      <td>4.333934</td>\n",
       "    </tr>\n",
       "    <tr>\n",
       "      <th>55</th>\n",
       "      <td>1056</td>\n",
       "      <td>Call of Duty Black Ops (PC)</td>\n",
       "      <td>Gry i konsole;Gry komputerowe</td>\n",
       "      <td>29.99</td>\n",
       "      <td>2.062100</td>\n",
       "    </tr>\n",
       "    <tr>\n",
       "      <th>56</th>\n",
       "      <td>1057</td>\n",
       "      <td>Doom 3 (PC)</td>\n",
       "      <td>Gry i konsole;Gry komputerowe</td>\n",
       "      <td>19.99</td>\n",
       "      <td>3.835961</td>\n",
       "    </tr>\n",
       "    <tr>\n",
       "      <th>59</th>\n",
       "      <td>1060</td>\n",
       "      <td>Wiedźmin 2 Zabójcy królów (PC)</td>\n",
       "      <td>Gry i konsole;Gry komputerowe</td>\n",
       "      <td>34.99</td>\n",
       "      <td>2.334113</td>\n",
       "    </tr>\n",
       "    <tr>\n",
       "      <th>277</th>\n",
       "      <td>1278</td>\n",
       "      <td>Intenso Music Walker 8GB</td>\n",
       "      <td>Sprzęt RTV;Przenośne audio i video;Odtwarzacze mp3 i mp4</td>\n",
       "      <td>78.90</td>\n",
       "      <td>2.428217</td>\n",
       "    </tr>\n",
       "    <tr>\n",
       "      <th>280</th>\n",
       "      <td>1281</td>\n",
       "      <td>Manta MM266</td>\n",
       "      <td>Sprzęt RTV;Przenośne audio i video;Odtwarzacze mp3 i mp4</td>\n",
       "      <td>64.80</td>\n",
       "      <td>4.843806</td>\n",
       "    </tr>\n",
       "    <tr>\n",
       "      <th>283</th>\n",
       "      <td>1284</td>\n",
       "      <td>Opticum AX-900</td>\n",
       "      <td>Sprzęt RTV;Video;Telewizory i akcesoria;Anteny RTV</td>\n",
       "      <td>49.90</td>\n",
       "      <td>0.915083</td>\n",
       "    </tr>\n",
       "    <tr>\n",
       "      <th>285</th>\n",
       "      <td>1286</td>\n",
       "      <td>Opticum AX-1000</td>\n",
       "      <td>Sprzęt RTV;Video;Telewizory i akcesoria;Anteny RTV</td>\n",
       "      <td>59.99</td>\n",
       "      <td>4.877668</td>\n",
       "    </tr>\n",
       "    <tr>\n",
       "      <th>288</th>\n",
       "      <td>1289</td>\n",
       "      <td>Philips SDV5225</td>\n",
       "      <td>Sprzęt RTV;Video;Telewizory i akcesoria;Anteny RTV</td>\n",
       "      <td>129.00</td>\n",
       "      <td>4.461759</td>\n",
       "    </tr>\n",
       "  </tbody>\n",
       "</table>\n",
       "</div>"
      ],
      "text/plain": [
       "     product_id                        product_name  \\\n",
       "10         1011        BioShock Infinite (Xbox 360)   \n",
       "47         1048                     Gra o tron (PC)   \n",
       "48         1049                    Max Payne 3 (PC)   \n",
       "50         1051              Spec Ops The Line (PC)   \n",
       "51         1052             Duke Nukem Forever (PC)   \n",
       "52         1053                      Anno 2070 (PC)   \n",
       "53         1054                 Call of Duty 2 (PC)   \n",
       "54         1055  Call of Duty Modern Warfare 3 (PC)   \n",
       "55         1056         Call of Duty Black Ops (PC)   \n",
       "56         1057                         Doom 3 (PC)   \n",
       "59         1060      Wiedźmin 2 Zabójcy królów (PC)   \n",
       "277        1278            Intenso Music Walker 8GB   \n",
       "280        1281                         Manta MM266   \n",
       "283        1284                      Opticum AX-900   \n",
       "285        1286                     Opticum AX-1000   \n",
       "288        1289                     Philips SDV5225   \n",
       "\n",
       "                                                category_path   price  \\\n",
       "10                  Gry i konsole;Gry na konsole;Gry Xbox 360  139.99   \n",
       "47                              Gry i konsole;Gry komputerowe   63.49   \n",
       "48                              Gry i konsole;Gry komputerowe   17.90   \n",
       "50                              Gry i konsole;Gry komputerowe   76.90   \n",
       "51                              Gry i konsole;Gry komputerowe   78.90   \n",
       "52                              Gry i konsole;Gry komputerowe   42.90   \n",
       "53                              Gry i konsole;Gry komputerowe   32.99   \n",
       "54                              Gry i konsole;Gry komputerowe   32.99   \n",
       "55                              Gry i konsole;Gry komputerowe   29.99   \n",
       "56                              Gry i konsole;Gry komputerowe   19.99   \n",
       "59                              Gry i konsole;Gry komputerowe   34.99   \n",
       "277  Sprzęt RTV;Przenośne audio i video;Odtwarzacze mp3 i mp4   78.90   \n",
       "280  Sprzęt RTV;Przenośne audio i video;Odtwarzacze mp3 i mp4   64.80   \n",
       "283        Sprzęt RTV;Video;Telewizory i akcesoria;Anteny RTV   49.90   \n",
       "285        Sprzęt RTV;Video;Telewizory i akcesoria;Anteny RTV   59.99   \n",
       "288        Sprzęt RTV;Video;Telewizory i akcesoria;Anteny RTV  129.00   \n",
       "\n",
       "     user_rating  \n",
       "10      4.429294  \n",
       "47      0.131420  \n",
       "48      0.769084  \n",
       "50      4.424979  \n",
       "51      0.684426  \n",
       "52      3.553721  \n",
       "53      2.468547  \n",
       "54      4.333934  \n",
       "55      2.062100  \n",
       "56      3.835961  \n",
       "59      2.334113  \n",
       "277     2.428217  \n",
       "280     4.843806  \n",
       "283     0.915083  \n",
       "285     4.877668  \n",
       "288     4.461759  "
      ]
     },
     "execution_count": 56,
     "metadata": {},
     "output_type": "execute_result"
    },
    {
     "data": {
      "image/png": "[encoded data removed]",
      "text/plain": [
       "<Figure size 1267.2x576 with 1 Axes>"
      ]
     },
     "metadata": {
      "needs_background": "light"
     },
     "output_type": "display_data"
    },
    {
     "data": {
      "image/png": "[encoded data removed]",
      "text/plain": [
       "<Figure size 1267.2x576 with 1 Axes>"
      ]
     },
     "metadata": {
      "needs_background": "light"
     },
     "output_type": "display_data"
    }
   ],
   "source": [
    "subSessionDF = sessionsDF.groupby('product_id').filter(lambda x : len(x) > sessionsDF['product_id'].value_counts().quantile(q=0.95)).copy()\n",
    "subSessionProductDF = pd.merge(subSessionDF, productsDF, how='inner', on='product_id')\n",
    "sns.catplot(data=subSessionProductDF, kind='count', x='product_name', height=8, aspect=2.2)\n",
    "plt.xticks(rotation=90) # Rotate labels to make plot more readable\n",
    "\n",
    "sns.catplot(data=subSessionProductDF, kind='count', x='category_path', height=8, aspect=2.2)\n",
    "topProductsDF = productsDF.loc[productsDF['product_id'].isin(subSessionDF['product_id'].unique())]\n",
    "print(topProductsDF['user_rating'].agg(['count', 'mean', 'max', 'min']))\n",
    "topProductsDF"
   ]
  },
  {
   "cell_type": "markdown",
   "metadata": {},
   "source": [
    "Okazuje się, że najpopularniejszymi produktami w sklepie są **Gry komputerowe**. Co ciekawe, drugą najczęściej występującą kategorią są **Anteny RTV**.\n",
    "\n",
    "Bardzo popularne okazały się produkty o bardzo niskiej ocenie np. **Gra o tron (PC)**: ~5000 interakcji, ocena ~0.1.\n",
    "\n",
    "Wśród 16 najpopularniejszych produktów średnia ocena wynosi ~2.9 .\n",
    "\n",
    "Spojrzymy teraz całościowo na sesje i przeanalizujemy jakie są najczęściej oglądane i kupowane kategorie produktów. Ze względu, że \"pełna kategoria\" wprowadza zbyt dużą gradację,  na potrzeby tej analizy kategorie zostały zredukowane do 5 (zaproponowanych wcześniej podczas analizy atrybutu **category_path**).\n",
    "\n",
    "Dane sesji podzieliśmy na dwa rozłączne podzbiory, w jednym znajdują się tylko obejrzane produkty, w drugim tylko produkty kupione (**event_type** odpowiednio **VIEW_PRODUCT** i **BUY_PRODUCT**)."
   ]
  },
  {
   "cell_type": "code",
   "execution_count": 57,
   "metadata": {},
   "outputs": [
    {
     "data": {
      "text/plain": [
       "Text(0.5, 1.0, 'Sessions with buy action')"
      ]
     },
     "execution_count": 57,
     "metadata": {},
     "output_type": "execute_result"
    },
    {
     "data": {
      "image/png": "[encoded data removed]",
      "text/plain": [
       "<Figure size 576x576 with 1 Axes>"
      ]
     },
     "metadata": {
      "needs_background": "light"
     },
     "output_type": "display_data"
    },
    {
     "data": {
      "image/png": "[encoded data removed]",
      "text/plain": [
       "<Figure size 576x576 with 1 Axes>"
      ]
     },
     "metadata": {
      "needs_background": "light"
     },
     "output_type": "display_data"
    }
   ],
   "source": [
    "sessionProductDF = pd.merge(sessionsDF, productsDF, how='inner', on='product_id')\n",
    "noBuySessions = sessionProductDF.loc[sessionProductDF['event_type'] == 'VIEW_PRODUCT'].copy()\n",
    "buySessions = sessionProductDF.loc[sessionProductDF['event_type'] == 'BUY_PRODUCT'].copy()\n",
    "\n",
    "# Reduce the number of product categories\n",
    "noBuySessions['category_path'] = noBuySessions['category_path'].apply(castCategoryPath)\n",
    "buySessions['category_path'] = buySessions['category_path'].apply(castCategoryPath)\n",
    "\n",
    "sns.catplot(data=noBuySessions, kind='count', x='category_path', height=8)\n",
    "plt.title(\"Sessions with no buy action\")\n",
    "\n",
    "sns.catplot(data=buySessions, kind='count', x='category_path', height=8)\n",
    "plt.title(\"Sessions with buy action\")"
   ]
  },
  {
   "cell_type": "markdown",
   "metadata": {},
   "source": [
    "Jak widzimy, zarówno najczęściej oglądaną kategorią jak i najchętniej kupowaną są **Gry komputerowe**. Następnie praktycznie na równej pozycji znajdują się **Gry na konsole** i **Sprzęt RTV**. Na trzeciej pozycji znajdziemy kategorię **Komputery** i najmniej popularna kategoria to **Telefony i akcesoria**.\n",
    "\n",
    "Zauważamy, że liczba interakcji względem grupy jest bezpośrednio skorelowana z licznością tej grupy."
   ]
  },
  {
   "cell_type": "markdown",
   "metadata": {},
   "source": [
    "## Współczynnik informacji wzajemnej\n",
    "\n",
    "Informacyjność danych jest istotna dla każdego problemu modelowania. Dla nas szczególnie istotne jest sprawdzenie, czy istnieje jakiś związek pomiędzy użytkownikiem, a przeglądanymi produktami.\n",
    "\n",
    "Skalę makroskopową, tzn. czy użytkownik posiada jakieś indywidualne preferencje, możemy sprawdzić licząc współczynnik informacji wzajemnej dla atrybuty **user_id** i **category_path**.\n",
    "Wspólczynnik policzyliśmy dla czterech formatów danych:\n",
    "- sesje oglądania produktu, ścieżka kategorii zrzutowana do 5 kategorii głównych\n",
    "- sesje oglądania produktu, pełna ścieżka kategorii\n",
    "- sesje kupowania produktu, ścieżka kategorii zrzutowana do 5 kategorii głównych\n",
    "- sesje kupwoania produktu, pełna ścieżka kategorii"
   ]
  },
  {
   "cell_type": "code",
   "execution_count": 58,
   "metadata": {},
   "outputs": [
    {
     "name": "stdout",
     "output_type": "stream",
     "text": [
      "Mutual information score for user_id and casted category_path (view events): 0.012017914592724614\n",
      "Mutual information score for user_id and category_path (view events): 0.03386461832079142\n",
      "Mutual information score for user_id and casted category_path (buy events): 0.03665965936153716\n",
      "Mutual information score for user_id and category_path (buy events): 0.12029254326184302\n"
     ]
    }
   ],
   "source": [
    "from sklearn import metrics\n",
    "\n",
    "noBuySessionProductDF = sessionProductDF.drop(sessionProductDF.index[sessionProductDF['event_type'] == 'BUY_PRODUCT']).copy()\n",
    "buySessionProductDF = sessionProductDF.dropna(subset=['purchase_id']).copy()\n",
    "\n",
    "castNoBuySessionProductDF = noBuySessionProductDF.copy()\n",
    "castNoBuySessionProductDF['category_path'] = noBuySessionProductDF['category_path'].apply(castCategoryPath)\n",
    "\n",
    "castBuySessionProductDF = buySessionProductDF.copy()\n",
    "castBuySessionProductDF['category_path'] = buySessionProductDF['category_path'].apply(castCategoryPath)\n",
    "\n",
    "\n",
    "print(f\"Mutual information score for user_id and casted category_path (view events): {metrics.mutual_info_score(castNoBuySessionProductDF['user_id'], castNoBuySessionProductDF['category_path'])}\")\n",
    "print(f\"Mutual information score for user_id and category_path (view events): {metrics.mutual_info_score(noBuySessionProductDF['user_id'], noBuySessionProductDF['category_path'])}\")\n",
    "\n",
    "print(f\"Mutual information score for user_id and casted category_path (buy events): {metrics.mutual_info_score(castBuySessionProductDF['user_id'], castBuySessionProductDF['category_path'])}\")\n",
    "print(f\"Mutual information score for user_id and category_path (buy events): {metrics.mutual_info_score(buySessionProductDF['user_id'], buySessionProductDF['category_path'])}\")"
   ]
  },
  {
   "cell_type": "markdown",
   "metadata": {},
   "source": [
    "Wyznaczony współczynnik informacji wzajemnej ma bardzo niską wartość. Tylko jeden współczynnik ma wartość powyżej 0.1 i wynosi on ~0.12. Co ciekawe, okazuje się on być wyższy dla bardziej szczegółowych kategorii.\n",
    "\n",
    "W obliczu tego rozczarowania postanowiliśmy sprawdzić czy może w danych zachodzi korelacja dla innej pary atrybutów. Naszym pomysłem było sprawdzenie czy istnieje zależność między ilością interakcji (popularnością)  \n",
    "z produktem a jego oceną. Tym razem ze względu na ciągłość atyrbutów i chęć wychwycenia bardziej liniowej zależności, policzyliśmy korelację liniową.  \n",
    "Podobnie jak wcześniej policzyliśmy ją oddzielnie dla sesji przeglądania i zakupowych."
   ]
  },
  {
   "cell_type": "code",
   "execution_count": 59,
   "metadata": {},
   "outputs": [
    {
     "name": "stdout",
     "output_type": "stream",
     "text": [
      "Linear correlation between popularity of a product and user_rating (view events): 0.05366616059079891\n",
      "Linear correlation between popularity of a product and user_rating (buy events): 0.21524332008730712\n"
     ]
    }
   ],
   "source": [
    "noBuySessionProductDF['user_rating'] = noBuySessionProductDF['user_rating'].apply(lambda x : round(x, 1))\n",
    "noBuyProdCountSeries = noBuySessionProductDF.groupby(['product_id'])['user_id'].count().copy()\n",
    "noBuyRatingSeries = noBuySessionProductDF.groupby(['product_id'])['user_rating'].unique().copy()\n",
    "noBuyRatingSeries = noBuyRatingSeries.apply(lambda x : x[0])\n",
    "print(f\"Linear correlation between popularity of a product and user_rating (view events): {noBuyProdCountSeries.corr(noBuyRatingSeries)}\")\n",
    "\n",
    "buySessionProductDF['user_rating'] = buySessionProductDF['user_rating'].apply(lambda x : round(x, 1))\n",
    "buyProdCountSeries = buySessionProductDF.groupby(['product_id'])['user_id'].count().copy()\n",
    "buyRatingSeries = buySessionProductDF.groupby(['product_id'])['user_rating'].unique().copy()\n",
    "buyRatingSeries = buyRatingSeries.apply(lambda x : x[0])\n",
    "print(f\"Linear correlation between popularity of a product and user_rating (buy events): {buyProdCountSeries.corr(buyRatingSeries)}\")"
   ]
  },
  {
   "cell_type": "markdown",
   "metadata": {},
   "source": [
    "Okazuje się, że i wtym wypadku obserwujemy dość słabą korelację. Dla zdarzeń przglądania jest ona bliska zeru. Wyniki powyższych dwóch ekperymentów zdają się sugerować jakiś problem z otrzymanymi danymi. Brakuje w nich spodziewanych/istotnych dla zadania zależności."
   ]
  },
  {
   "cell_type": "markdown",
   "metadata": {},
   "source": [
    "Postanowiliśmy jeszcze sprawdzić czy zachodzi korelacja liniowa pomiędzy ilością interakcji (popularnością) z danym produktem a jego ceną. Jak wcześniej współczynnik, policzyliśmy niezależenie dla sesji przegladania i zakupowych."
   ]
  },
  {
   "cell_type": "code",
   "execution_count": 60,
   "metadata": {},
   "outputs": [
    {
     "name": "stdout",
     "output_type": "stream",
     "text": [
      "Linear correlation between popularity of a product and price (view events): 0.0063269009916432665\n",
      "Linear correlation between popularity of a product and price (buy events): 0.058156750693072946\n"
     ]
    }
   ],
   "source": [
    "noBuyPriceSeries = noBuySessionProductDF.groupby(['product_id'])['price'].unique().copy()\n",
    "noBuyPriceSeries = noBuyPriceSeries.apply(lambda x : x[0])\n",
    "print(f\"Linear correlation between popularity of a product and price (view events): {noBuyProdCountSeries.corr(noBuyPriceSeries)}\")\n",
    "\n",
    "buyPriceSeries = buySessionProductDF.groupby(['product_id'])['price'].unique().copy()\n",
    "buyPriceSeries = buyPriceSeries.apply(lambda x : x[0])\n",
    "print(f\"Linear correlation between popularity of a product and price (buy events): {buyProdCountSeries.corr(buyPriceSeries)}\")"
   ]
  },
  {
   "cell_type": "markdown",
   "metadata": {},
   "source": [
    "Wyznaczone współczynniki ponownie są bliskie zeru."
   ]
  },
  {
   "cell_type": "markdown",
   "metadata": {},
   "source": [
    "### Badanie gęstości macierzy interakcji\n",
    "Postanowiliśmy sprawdzić również jak wyglada gęstość otrzymanych danych dla zadania predykcji. Utworzyliśmy macierz, której kolumny odpowiadają wszystkim produktom w ofercie, a wiersze poszczególnym użytkonikom.  \n",
    "Jeżeli użytkownik wszedł w interakcje z danym produktem (obejrzał go lub kupił), w odpowidającej komórce będzie 1, w przeciwnym wypadku komórka pozostanie pusta. Dla tak utworzonej macierzy policzyliśmy gęstość."
   ]
  },
  {
   "cell_type": "code",
   "execution_count": 61,
   "metadata": {},
   "outputs": [
    {
     "name": "stdout",
     "output_type": "stream",
     "text": [
      "Sparse matrix density: 0.47782131661442007\n"
     ]
    }
   ],
   "source": [
    "df = sessionsDF.drop(columns=[\"session_id\", \"timestamp\", \"event_type\", \"offered_discount\", \"purchase_id\"])\n",
    "df[\"hit\"] = 1\n",
    "heatMapDF = pd.pivot_table(df, index=\"user_id\", columns=\"product_id\", values=\"hit\")\n",
    "print(\"Sparse matrix density: \" + str((heatMapDF.size - heatMapDF.isna().sum().sum())/heatMapDF.size))\n"
   ]
  },
  {
   "cell_type": "markdown",
   "metadata": {},
   "source": [
    "Gęstość powyższej macierzy wynosi ~47,8% co jest wartością wystarczającą dla zadania rekomendacji."
   ]
  },
  {
   "cell_type": "markdown",
   "metadata": {},
   "source": [
    "# Podsumowanie\n",
    "\n",
    "Podsumowując powyższą analizę:\n",
    "* W dostarczonych danych nie wykryto oczywistych błędów, takich jak: braki wartości, błędne wartości atrybutów. Jedyne co zwróciło naszą uwagę to trzy produkty, których koszt wynosi 1.\n",
    "* Dostarczone dane pochodzą z okresu 10 miesięcy. Wydaje nam się, że jest to zbyt krótki przedział czasowy (pomija on okres świąteczny). Właścicieli sklepu eSzoping poprosilibyśmy o udostępnienie danych z szerszego przedziału czasu.\n",
    "* Kategorie produktów są bardzo nierównomierne. Nawet po zredukowaniu ilości grup do 5 najgorszy współczynnik niezbalansowania wynosi ~1:14. Możemy próbować temu zaradzić rozbijając kategorię większosciową (Gry komputerowe), na mniejsze np. na gatunki gier.\n",
    "* W danych zachodzi również duża nierównomierność w popularności produktów mierzonej jako liczba interakcji. Podobnie sytuacja wygląda z kategoriami, widzimy bezpośrednią korelację między liczebnością grupy (zredukowanej), a jej popularnością.\n",
    "* Współczynnik informacji wzajemnej między *user_id*, a *category_path* pokazał, że użytkownicy nie wydają się mieć z góry określony preferencji.\n",
    "* Współczynniki korelacji liniowej dla ilości interakcji z danym produktem, a jego oceną są bliskie zeru, podobnie jak dla współczynnika między ilością interakcji, a ceną produkty.\n",
    "* Policzone współczynniki sugerują brak spodziewanych zależności, które w naszej ocenie są kluczowe z punktu widzenia zadania rekomendacji. Na tym etapie domagalibyśmy się nowych danych.\n",
    "* Sprawdziliśmy również jak wygląda gestość macierzy interakcji, kluczowy wskaźnik dla problemu rekomendacji - nie budzi on żadnych zastrzeżeń."
   ]
  }
 ],
 "metadata": {
  "interpreter": {
   "hash": "916dbcbb3f70747c44a77c7bcd40155683ae19c65e1c03b4aa3499c5328201f1"
  },
  "kernelspec": {
   "display_name": "Python 3 (ipykernel)",
   "language": "python",
   "name": "python3"
  },
  "language_info": {
   "codemirror_mode": {
    "name": "ipython",
    "version": 3
   },
   "file_extension": ".py",
   "mimetype": "text/x-python",
   "name": "python",
   "nbconvert_exporter": "python",
   "pygments_lexer": "ipython3",
   "version": "3.9.5"
  }
 },
 "nbformat": 4,
 "nbformat_minor": 2
}
